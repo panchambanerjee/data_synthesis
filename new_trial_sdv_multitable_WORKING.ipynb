{
  "nbformat": 4,
  "nbformat_minor": 0,
  "metadata": {
    "colab": {
      "provenance": [],
      "authorship_tag": "ABX9TyN0wFmQOHBAZf8O/fX3SJYD",
      "include_colab_link": true
    },
    "kernelspec": {
      "name": "python3",
      "display_name": "Python 3"
    },
    "language_info": {
      "name": "python"
    }
  },
  "cells": [
    {
      "cell_type": "markdown",
      "metadata": {
        "id": "view-in-github",
        "colab_type": "text"
      },
      "source": [
        "<a href=\"https://colab.research.google.com/github/panchambanerjee/data_synthesis/blob/main/new_trial_sdv_multitable_WORKING.ipynb\" target=\"_parent\"><img src=\"https://colab.research.google.com/assets/colab-badge.svg\" alt=\"Open In Colab\"/></a>"
      ]
    },
    {
      "cell_type": "markdown",
      "source": [
        "## From SDV Examples"
      ],
      "metadata": {
        "id": "M4Axfu3l9spJ"
      }
    },
    {
      "cell_type": "code",
      "execution_count": 1,
      "metadata": {
        "colab": {
          "base_uri": "https://localhost:8080/"
        },
        "id": "2Nsr4OUW9lZi",
        "outputId": "ebbb3399-c6c4-4dd9-f8bf-942e5b1ad1f0"
      },
      "outputs": [
        {
          "output_type": "stream",
          "name": "stdout",
          "text": [
            "Collecting sdv\n",
            "  Downloading sdv-1.4.0-py2.py3-none-any.whl (126 kB)\n",
            "\u001b[2K     \u001b[90m━━━━━━━━━━━━━━━━━━━━━━━━━━━━━━━━━━━━━━━\u001b[0m \u001b[32m126.4/126.4 kB\u001b[0m \u001b[31m2.6 MB/s\u001b[0m eta \u001b[36m0:00:00\u001b[0m\n",
            "\u001b[?25hCollecting boto3<2,>=1.15.0 (from sdv)\n",
            "  Downloading boto3-1.28.52-py3-none-any.whl (135 kB)\n",
            "\u001b[2K     \u001b[90m━━━━━━━━━━━━━━━━━━━━━━━━━━━━━━━━━━━━━━\u001b[0m \u001b[32m135.8/135.8 kB\u001b[0m \u001b[31m12.5 MB/s\u001b[0m eta \u001b[36m0:00:00\u001b[0m\n",
            "\u001b[?25hCollecting botocore<2,>=1.18 (from sdv)\n",
            "  Downloading botocore-1.31.52-py3-none-any.whl (11.2 MB)\n",
            "\u001b[2K     \u001b[90m━━━━━━━━━━━━━━━━━━━━━━━━━━━━━━━━━━━━━━━━\u001b[0m \u001b[32m11.2/11.2 MB\u001b[0m \u001b[31m60.7 MB/s\u001b[0m eta \u001b[36m0:00:00\u001b[0m\n",
            "\u001b[?25hRequirement already satisfied: cloudpickle<3.0,>=2.1.0 in /usr/local/lib/python3.10/dist-packages (from sdv) (2.2.1)\n",
            "Collecting Faker<15,>=10 (from sdv)\n",
            "  Downloading Faker-14.2.1-py3-none-any.whl (1.6 MB)\n",
            "\u001b[2K     \u001b[90m━━━━━━━━━━━━━━━━━━━━━━━━━━━━━━━━━━━━━━━━\u001b[0m \u001b[32m1.6/1.6 MB\u001b[0m \u001b[31m57.9 MB/s\u001b[0m eta \u001b[36m0:00:00\u001b[0m\n",
            "\u001b[?25hRequirement already satisfied: graphviz<1,>=0.13.2 in /usr/local/lib/python3.10/dist-packages (from sdv) (0.20.1)\n",
            "Requirement already satisfied: tqdm<5,>=4.15 in /usr/local/lib/python3.10/dist-packages (from sdv) (4.66.1)\n",
            "Collecting copulas<0.10,>=0.9.0 (from sdv)\n",
            "  Downloading copulas-0.9.1-py2.py3-none-any.whl (54 kB)\n",
            "\u001b[2K     \u001b[90m━━━━━━━━━━━━━━━━━━━━━━━━━━━━━━━━━━━━━━━━\u001b[0m \u001b[32m54.4/54.4 kB\u001b[0m \u001b[31m5.9 MB/s\u001b[0m eta \u001b[36m0:00:00\u001b[0m\n",
            "\u001b[?25hCollecting ctgan<0.8,>=0.7.4 (from sdv)\n",
            "  Downloading ctgan-0.7.4-py2.py3-none-any.whl (26 kB)\n",
            "Collecting deepecho<0.5,>=0.4.2 (from sdv)\n",
            "  Downloading deepecho-0.4.2-py2.py3-none-any.whl (29 kB)\n",
            "Collecting rdt<2,>=1.7.0 (from sdv)\n",
            "  Downloading rdt-1.7.0-py2.py3-none-any.whl (70 kB)\n",
            "\u001b[2K     \u001b[90m━━━━━━━━━━━━━━━━━━━━━━━━━━━━━━━━━━━━━━━━\u001b[0m \u001b[32m70.5/70.5 kB\u001b[0m \u001b[31m8.1 MB/s\u001b[0m eta \u001b[36m0:00:00\u001b[0m\n",
            "\u001b[?25hCollecting sdmetrics<0.12,>=0.11.0 (from sdv)\n",
            "  Downloading sdmetrics-0.11.1-py2.py3-none-any.whl (160 kB)\n",
            "\u001b[2K     \u001b[90m━━━━━━━━━━━━━━━━━━━━━━━━━━━━━━━━━━━━━━\u001b[0m \u001b[32m160.3/160.3 kB\u001b[0m \u001b[31m14.6 MB/s\u001b[0m eta \u001b[36m0:00:00\u001b[0m\n",
            "\u001b[?25hRequirement already satisfied: numpy<1.25.0,>=1.23.3 in /usr/local/lib/python3.10/dist-packages (from sdv) (1.23.5)\n",
            "Requirement already satisfied: pandas>=1.3.4 in /usr/local/lib/python3.10/dist-packages (from sdv) (1.5.3)\n",
            "Collecting jmespath<2.0.0,>=0.7.1 (from boto3<2,>=1.15.0->sdv)\n",
            "  Downloading jmespath-1.0.1-py3-none-any.whl (20 kB)\n",
            "Collecting s3transfer<0.7.0,>=0.6.0 (from boto3<2,>=1.15.0->sdv)\n",
            "  Downloading s3transfer-0.6.2-py3-none-any.whl (79 kB)\n",
            "\u001b[2K     \u001b[90m━━━━━━━━━━━━━━━━━━━━━━━━━━━━━━━━━━━━━━━━\u001b[0m \u001b[32m79.8/79.8 kB\u001b[0m \u001b[31m8.0 MB/s\u001b[0m eta \u001b[36m0:00:00\u001b[0m\n",
            "\u001b[?25hRequirement already satisfied: python-dateutil<3.0.0,>=2.1 in /usr/local/lib/python3.10/dist-packages (from botocore<2,>=1.18->sdv) (2.8.2)\n",
            "Collecting urllib3<1.27,>=1.25.4 (from botocore<2,>=1.18->sdv)\n",
            "  Downloading urllib3-1.26.16-py2.py3-none-any.whl (143 kB)\n",
            "\u001b[2K     \u001b[90m━━━━━━━━━━━━━━━━━━━━━━━━━━━━━━━━━━━━━━\u001b[0m \u001b[32m143.1/143.1 kB\u001b[0m \u001b[31m14.3 MB/s\u001b[0m eta \u001b[36m0:00:00\u001b[0m\n",
            "\u001b[?25hRequirement already satisfied: matplotlib<4,>=3.6.0 in /usr/local/lib/python3.10/dist-packages (from copulas<0.10,>=0.9.0->sdv) (3.7.1)\n",
            "Requirement already satisfied: scipy<2,>=1.9.2 in /usr/local/lib/python3.10/dist-packages (from copulas<0.10,>=0.9.0->sdv) (1.11.2)\n",
            "Requirement already satisfied: scikit-learn<2,>=1.1.3 in /usr/local/lib/python3.10/dist-packages (from ctgan<0.8,>=0.7.4->sdv) (1.2.2)\n",
            "Requirement already satisfied: torch>=1.11.0 in /usr/local/lib/python3.10/dist-packages (from ctgan<0.8,>=0.7.4->sdv) (2.0.1+cu118)\n",
            "Requirement already satisfied: pytz>=2020.1 in /usr/local/lib/python3.10/dist-packages (from pandas>=1.3.4->sdv) (2023.3.post1)\n",
            "Requirement already satisfied: psutil<6,>=5.7 in /usr/local/lib/python3.10/dist-packages (from rdt<2,>=1.7.0->sdv) (5.9.5)\n",
            "Requirement already satisfied: plotly<6,>=5.10.0 in /usr/local/lib/python3.10/dist-packages (from sdmetrics<0.12,>=0.11.0->sdv) (5.15.0)\n",
            "Requirement already satisfied: contourpy>=1.0.1 in /usr/local/lib/python3.10/dist-packages (from matplotlib<4,>=3.6.0->copulas<0.10,>=0.9.0->sdv) (1.1.0)\n",
            "Requirement already satisfied: cycler>=0.10 in /usr/local/lib/python3.10/dist-packages (from matplotlib<4,>=3.6.0->copulas<0.10,>=0.9.0->sdv) (0.11.0)\n",
            "Requirement already satisfied: fonttools>=4.22.0 in /usr/local/lib/python3.10/dist-packages (from matplotlib<4,>=3.6.0->copulas<0.10,>=0.9.0->sdv) (4.42.1)\n",
            "Requirement already satisfied: kiwisolver>=1.0.1 in /usr/local/lib/python3.10/dist-packages (from matplotlib<4,>=3.6.0->copulas<0.10,>=0.9.0->sdv) (1.4.5)\n",
            "Requirement already satisfied: packaging>=20.0 in /usr/local/lib/python3.10/dist-packages (from matplotlib<4,>=3.6.0->copulas<0.10,>=0.9.0->sdv) (23.1)\n",
            "Requirement already satisfied: pillow>=6.2.0 in /usr/local/lib/python3.10/dist-packages (from matplotlib<4,>=3.6.0->copulas<0.10,>=0.9.0->sdv) (9.4.0)\n",
            "Requirement already satisfied: pyparsing>=2.3.1 in /usr/local/lib/python3.10/dist-packages (from matplotlib<4,>=3.6.0->copulas<0.10,>=0.9.0->sdv) (3.1.1)\n",
            "Requirement already satisfied: tenacity>=6.2.0 in /usr/local/lib/python3.10/dist-packages (from plotly<6,>=5.10.0->sdmetrics<0.12,>=0.11.0->sdv) (8.2.3)\n",
            "Requirement already satisfied: six>=1.5 in /usr/local/lib/python3.10/dist-packages (from python-dateutil<3.0.0,>=2.1->botocore<2,>=1.18->sdv) (1.16.0)\n",
            "Requirement already satisfied: joblib>=1.1.1 in /usr/local/lib/python3.10/dist-packages (from scikit-learn<2,>=1.1.3->ctgan<0.8,>=0.7.4->sdv) (1.3.2)\n",
            "Requirement already satisfied: threadpoolctl>=2.0.0 in /usr/local/lib/python3.10/dist-packages (from scikit-learn<2,>=1.1.3->ctgan<0.8,>=0.7.4->sdv) (3.2.0)\n",
            "Requirement already satisfied: filelock in /usr/local/lib/python3.10/dist-packages (from torch>=1.11.0->ctgan<0.8,>=0.7.4->sdv) (3.12.2)\n",
            "Requirement already satisfied: typing-extensions in /usr/local/lib/python3.10/dist-packages (from torch>=1.11.0->ctgan<0.8,>=0.7.4->sdv) (4.5.0)\n",
            "Requirement already satisfied: sympy in /usr/local/lib/python3.10/dist-packages (from torch>=1.11.0->ctgan<0.8,>=0.7.4->sdv) (1.12)\n",
            "Requirement already satisfied: networkx in /usr/local/lib/python3.10/dist-packages (from torch>=1.11.0->ctgan<0.8,>=0.7.4->sdv) (3.1)\n",
            "Requirement already satisfied: jinja2 in /usr/local/lib/python3.10/dist-packages (from torch>=1.11.0->ctgan<0.8,>=0.7.4->sdv) (3.1.2)\n",
            "Requirement already satisfied: triton==2.0.0 in /usr/local/lib/python3.10/dist-packages (from torch>=1.11.0->ctgan<0.8,>=0.7.4->sdv) (2.0.0)\n",
            "Requirement already satisfied: cmake in /usr/local/lib/python3.10/dist-packages (from triton==2.0.0->torch>=1.11.0->ctgan<0.8,>=0.7.4->sdv) (3.27.4.1)\n",
            "Requirement already satisfied: lit in /usr/local/lib/python3.10/dist-packages (from triton==2.0.0->torch>=1.11.0->ctgan<0.8,>=0.7.4->sdv) (16.0.6)\n",
            "Requirement already satisfied: MarkupSafe>=2.0 in /usr/local/lib/python3.10/dist-packages (from jinja2->torch>=1.11.0->ctgan<0.8,>=0.7.4->sdv) (2.1.3)\n",
            "Requirement already satisfied: mpmath>=0.19 in /usr/local/lib/python3.10/dist-packages (from sympy->torch>=1.11.0->ctgan<0.8,>=0.7.4->sdv) (1.3.0)\n",
            "Installing collected packages: urllib3, jmespath, Faker, botocore, s3transfer, rdt, copulas, sdmetrics, boto3, deepecho, ctgan, sdv\n",
            "  Attempting uninstall: urllib3\n",
            "    Found existing installation: urllib3 2.0.4\n",
            "    Uninstalling urllib3-2.0.4:\n",
            "      Successfully uninstalled urllib3-2.0.4\n",
            "Successfully installed Faker-14.2.1 boto3-1.28.52 botocore-1.31.52 copulas-0.9.1 ctgan-0.7.4 deepecho-0.4.2 jmespath-1.0.1 rdt-1.7.0 s3transfer-0.6.2 sdmetrics-0.11.1 sdv-1.4.0 urllib3-1.26.16\n"
          ]
        }
      ],
      "source": [
        "%pip install sdv"
      ]
    },
    {
      "cell_type": "code",
      "source": [
        "from sdv.datasets.demo import download_demo\n",
        "\n",
        "real_data, metadata = download_demo(\n",
        "    modality='multi_table',\n",
        "    dataset_name='fake_hotels'\n",
        ")\n",
        "\n",
        "metadata"
      ],
      "metadata": {
        "colab": {
          "base_uri": "https://localhost:8080/"
        },
        "id": "l6StKF5T9z6w",
        "outputId": "1352b543-3e76-4c47-bb2d-d6bb61a48d3a"
      },
      "execution_count": 1,
      "outputs": [
        {
          "output_type": "execute_result",
          "data": {
            "text/plain": [
              "{\n",
              "    \"tables\": {\n",
              "        \"guests\": {\n",
              "            \"columns\": {\n",
              "                \"guest_email\": {\n",
              "                    \"sdtype\": \"email\",\n",
              "                    \"pii\": true\n",
              "                },\n",
              "                \"hotel_id\": {\n",
              "                    \"sdtype\": \"id\",\n",
              "                    \"regex_format\": \"[A-Za-z]{5}\"\n",
              "                },\n",
              "                \"has_rewards\": {\n",
              "                    \"sdtype\": \"boolean\"\n",
              "                },\n",
              "                \"room_type\": {\n",
              "                    \"sdtype\": \"categorical\"\n",
              "                },\n",
              "                \"amenities_fee\": {\n",
              "                    \"sdtype\": \"numerical\",\n",
              "                    \"computer_representation\": \"Float\"\n",
              "                },\n",
              "                \"checkin_date\": {\n",
              "                    \"sdtype\": \"datetime\",\n",
              "                    \"datetime_format\": \"%d %b %Y\"\n",
              "                },\n",
              "                \"checkout_date\": {\n",
              "                    \"sdtype\": \"datetime\",\n",
              "                    \"datetime_format\": \"%d %b %Y\"\n",
              "                },\n",
              "                \"room_rate\": {\n",
              "                    \"sdtype\": \"numerical\",\n",
              "                    \"computer_representation\": \"Float\"\n",
              "                },\n",
              "                \"billing_address\": {\n",
              "                    \"sdtype\": \"address\",\n",
              "                    \"pii\": true\n",
              "                },\n",
              "                \"credit_card_number\": {\n",
              "                    \"sdtype\": \"credit_card_number\",\n",
              "                    \"pii\": true\n",
              "                }\n",
              "            },\n",
              "            \"primary_key\": \"guest_email\"\n",
              "        },\n",
              "        \"hotels\": {\n",
              "            \"columns\": {\n",
              "                \"hotel_id\": {\n",
              "                    \"sdtype\": \"id\",\n",
              "                    \"regex_format\": \"HID_[0-9]{3}\"\n",
              "                },\n",
              "                \"city\": {\n",
              "                    \"sdtype\": \"categorical\"\n",
              "                },\n",
              "                \"state\": {\n",
              "                    \"sdtype\": \"categorical\"\n",
              "                },\n",
              "                \"rating\": {\n",
              "                    \"sdtype\": \"numerical\",\n",
              "                    \"computer_representation\": \"Float\"\n",
              "                },\n",
              "                \"classification\": {\n",
              "                    \"sdtype\": \"categorical\"\n",
              "                }\n",
              "            },\n",
              "            \"primary_key\": \"hotel_id\"\n",
              "        }\n",
              "    },\n",
              "    \"relationships\": [\n",
              "        {\n",
              "            \"parent_table_name\": \"hotels\",\n",
              "            \"parent_primary_key\": \"hotel_id\",\n",
              "            \"child_table_name\": \"guests\",\n",
              "            \"child_foreign_key\": \"hotel_id\"\n",
              "        }\n",
              "    ],\n",
              "    \"METADATA_SPEC_VERSION\": \"MULTI_TABLE_V1\"\n",
              "}"
            ]
          },
          "metadata": {},
          "execution_count": 1
        }
      ]
    },
    {
      "cell_type": "code",
      "source": [
        "metadata.visualize()"
      ],
      "metadata": {
        "colab": {
          "base_uri": "https://localhost:8080/",
          "height": 567
        },
        "id": "v33jVwQk-BFD",
        "outputId": "453f3c61-798e-4f44-9703-85c2b2622753"
      },
      "execution_count": 2,
      "outputs": [
        {
          "output_type": "execute_result",
          "data": {
            "image/svg+xml": "<?xml version=\"1.0\" encoding=\"UTF-8\" standalone=\"no\"?>\n<!DOCTYPE svg PUBLIC \"-//W3C//DTD SVG 1.1//EN\"\n \"http://www.w3.org/Graphics/SVG/1.1/DTD/svg11.dtd\">\n<!-- Generated by graphviz version 2.43.0 (0)\n -->\n<!-- Title: Metadata Pages: 1 -->\n<svg width=\"255pt\" height=\"409pt\"\n viewBox=\"0.00 0.00 255.00 409.00\" xmlns=\"http://www.w3.org/2000/svg\" xmlns:xlink=\"http://www.w3.org/1999/xlink\">\n<g id=\"graph0\" class=\"graph\" transform=\"scale(1 1) rotate(0) translate(4 405)\">\n<title>Metadata</title>\n<polygon fill=\"white\" stroke=\"transparent\" points=\"-4,4 -4,-405 251,-405 251,4 -4,4\"/>\n<!-- guests -->\n<g id=\"node1\" class=\"node\">\n<title>guests</title>\n<path fill=\"#ffec8b\" stroke=\"black\" d=\"M12,-0.5C12,-0.5 235,-0.5 235,-0.5 241,-0.5 247,-6.5 247,-12.5 247,-12.5 247,-207.5 247,-207.5 247,-213.5 241,-219.5 235,-219.5 235,-219.5 12,-219.5 12,-219.5 6,-219.5 0,-213.5 0,-207.5 0,-207.5 0,-12.5 0,-12.5 0,-6.5 6,-0.5 12,-0.5\"/>\n<text text-anchor=\"middle\" x=\"123.5\" y=\"-204.3\" font-family=\"Times,serif\" font-size=\"14.00\">guests</text>\n<polyline fill=\"none\" stroke=\"black\" points=\"0,-196.5 247,-196.5 \"/>\n<text text-anchor=\"start\" x=\"8\" y=\"-181.3\" font-family=\"Times,serif\" font-size=\"14.00\">guest_email : email</text>\n<text text-anchor=\"start\" x=\"8\" y=\"-166.3\" font-family=\"Times,serif\" font-size=\"14.00\">hotel_id : id</text>\n<text text-anchor=\"start\" x=\"8\" y=\"-151.3\" font-family=\"Times,serif\" font-size=\"14.00\">has_rewards : boolean</text>\n<text text-anchor=\"start\" x=\"8\" y=\"-136.3\" font-family=\"Times,serif\" font-size=\"14.00\">room_type : categorical</text>\n<text text-anchor=\"start\" x=\"8\" y=\"-121.3\" font-family=\"Times,serif\" font-size=\"14.00\">amenities_fee : numerical</text>\n<text text-anchor=\"start\" x=\"8\" y=\"-106.3\" font-family=\"Times,serif\" font-size=\"14.00\">checkin_date : datetime</text>\n<text text-anchor=\"start\" x=\"8\" y=\"-91.3\" font-family=\"Times,serif\" font-size=\"14.00\">checkout_date : datetime</text>\n<text text-anchor=\"start\" x=\"8\" y=\"-76.3\" font-family=\"Times,serif\" font-size=\"14.00\">room_rate : numerical</text>\n<text text-anchor=\"start\" x=\"8\" y=\"-61.3\" font-family=\"Times,serif\" font-size=\"14.00\">billing_address : address</text>\n<text text-anchor=\"start\" x=\"8\" y=\"-46.3\" font-family=\"Times,serif\" font-size=\"14.00\">credit_card_number : credit_card_number</text>\n<polyline fill=\"none\" stroke=\"black\" points=\"0,-38.5 247,-38.5 \"/>\n<text text-anchor=\"start\" x=\"8\" y=\"-23.3\" font-family=\"Times,serif\" font-size=\"14.00\">Primary key: guest_email</text>\n<text text-anchor=\"start\" x=\"8\" y=\"-8.3\" font-family=\"Times,serif\" font-size=\"14.00\">Foreign key (hotels): hotel_id</text>\n</g>\n<!-- hotels -->\n<g id=\"node2\" class=\"node\">\n<title>hotels</title>\n<path fill=\"#ffec8b\" stroke=\"black\" d=\"M56.5,-271.5C56.5,-271.5 190.5,-271.5 190.5,-271.5 196.5,-271.5 202.5,-277.5 202.5,-283.5 202.5,-283.5 202.5,-388.5 202.5,-388.5 202.5,-394.5 196.5,-400.5 190.5,-400.5 190.5,-400.5 56.5,-400.5 56.5,-400.5 50.5,-400.5 44.5,-394.5 44.5,-388.5 44.5,-388.5 44.5,-283.5 44.5,-283.5 44.5,-277.5 50.5,-271.5 56.5,-271.5\"/>\n<text text-anchor=\"middle\" x=\"123.5\" y=\"-385.3\" font-family=\"Times,serif\" font-size=\"14.00\">hotels</text>\n<polyline fill=\"none\" stroke=\"black\" points=\"44.5,-377.5 202.5,-377.5 \"/>\n<text text-anchor=\"start\" x=\"52.5\" y=\"-362.3\" font-family=\"Times,serif\" font-size=\"14.00\">hotel_id : id</text>\n<text text-anchor=\"start\" x=\"52.5\" y=\"-347.3\" font-family=\"Times,serif\" font-size=\"14.00\">city : categorical</text>\n<text text-anchor=\"start\" x=\"52.5\" y=\"-332.3\" font-family=\"Times,serif\" font-size=\"14.00\">state : categorical</text>\n<text text-anchor=\"start\" x=\"52.5\" y=\"-317.3\" font-family=\"Times,serif\" font-size=\"14.00\">rating : numerical</text>\n<text text-anchor=\"start\" x=\"52.5\" y=\"-302.3\" font-family=\"Times,serif\" font-size=\"14.00\">classification : categorical</text>\n<polyline fill=\"none\" stroke=\"black\" points=\"44.5,-294.5 202.5,-294.5 \"/>\n<text text-anchor=\"start\" x=\"52.5\" y=\"-279.3\" font-family=\"Times,serif\" font-size=\"14.00\">Primary key: hotel_id</text>\n</g>\n<!-- hotels&#45;&gt;guests -->\n<g id=\"edge1\" class=\"edge\">\n<title>hotels&#45;&gt;guests</title>\n<path fill=\"none\" stroke=\"black\" d=\"M123.5,-271.41C123.5,-258.4 123.5,-244.31 123.5,-230.07\"/>\n<polygon fill=\"none\" stroke=\"black\" points=\"127,-219.68 123.5,-229.68 120,-219.68 127,-219.68\"/>\n<text text-anchor=\"middle\" x=\"182.5\" y=\"-241.8\" font-family=\"Times,serif\" font-size=\"14.00\"> &#160;hotel_id → hotel_id</text>\n</g>\n</g>\n</svg>\n",
            "text/plain": [
              "<graphviz.graphs.Digraph at 0x7d4e43fce680>"
            ]
          },
          "metadata": {},
          "execution_count": 2
        }
      ]
    },
    {
      "cell_type": "code",
      "source": [
        "from sdv.multi_table import HMASynthesizer\n",
        "\n",
        "synthesizer = HMASynthesizer(metadata)\n",
        "synthesizer.fit(real_data)"
      ],
      "metadata": {
        "colab": {
          "base_uri": "https://localhost:8080/"
        },
        "id": "8gPSdUa1-OGE",
        "outputId": "380478fa-e95f-48c4-d90a-aeb2265ae21b"
      },
      "execution_count": 3,
      "outputs": [
        {
          "output_type": "stream",
          "name": "stderr",
          "text": [
            "Preprocess Tables: 100%|██████████| 2/2 [00:00<00:00,  8.18it/s]\n"
          ]
        },
        {
          "output_type": "stream",
          "name": "stdout",
          "text": [
            "\n",
            "Learning relationships:\n"
          ]
        },
        {
          "output_type": "stream",
          "name": "stderr",
          "text": [
            "(1/1) Tables 'hotels' and 'guests' ('hotel_id'): 100%|██████████| 10/10 [00:05<00:00,  1.73it/s]\n"
          ]
        },
        {
          "output_type": "stream",
          "name": "stdout",
          "text": [
            "\n"
          ]
        },
        {
          "output_type": "stream",
          "name": "stderr",
          "text": [
            "Modeling Tables: 100%|██████████| 1/1 [00:03<00:00,  3.69s/it]\n"
          ]
        }
      ]
    },
    {
      "cell_type": "code",
      "source": [
        "import pandas as pd"
      ],
      "metadata": {
        "colab": {
          "base_uri": "https://localhost:8080/"
        },
        "id": "HGVknSCq-sof",
        "outputId": "bf664d4f-6e1c-47e2-ae46-96d4bed16dd2"
      },
      "execution_count": 4,
      "outputs": [
        {
          "output_type": "stream",
          "name": "stderr",
          "text": [
            "/usr/local/lib/python3.10/dist-packages/ipykernel/ipkernel.py:283: DeprecationWarning: `should_run_async` will not call `transform_cell` automatically in the future. Please pass the result to `transformed_cell` argument and any exception that happen during thetransform in `preprocessing_exc_tuple` in IPython 7.17 and above.\n",
            "  and should_run_async(code)\n"
          ]
        }
      ]
    },
    {
      "cell_type": "code",
      "source": [
        "## Let's try and create our own tables\n",
        "\n",
        "parent_table = pd.DataFrame(data={\n",
        "    'cust_id': [1, 2, 3, 4, 5],\n",
        "    'name': [\"A\", \"B\", \"C\", \"D\", \"E\"]\n",
        "})\n",
        "\n",
        "child_table = pd.DataFrame(data={\n",
        "    'cust_id': [1, 2, 3, 4, 5],\n",
        "    'parent_id': [1, 3, 4, 2, 5],\n",
        "    'age_group': [1, 3, 3, 1, 2],\n",
        "    'income_group': [2, 4, 5, 2, 4]\n",
        "})\n",
        "\n",
        "real_data = {\n",
        "    'parent_table': parent_table,\n",
        "    'child_table': child_table\n",
        "}"
      ],
      "metadata": {
        "colab": {
          "base_uri": "https://localhost:8080/"
        },
        "id": "8BMPJK7l-PMr",
        "outputId": "0c9ce72a-975e-4134-b40b-a8607a9921f6"
      },
      "execution_count": 27,
      "outputs": [
        {
          "output_type": "stream",
          "name": "stderr",
          "text": [
            "/usr/local/lib/python3.10/dist-packages/ipykernel/ipkernel.py:283: DeprecationWarning: `should_run_async` will not call `transform_cell` automatically in the future. Please pass the result to `transformed_cell` argument and any exception that happen during thetransform in `preprocessing_exc_tuple` in IPython 7.17 and above.\n",
            "  and should_run_async(code)\n"
          ]
        }
      ]
    },
    {
      "cell_type": "code",
      "source": [
        "from sdv.metadata import MultiTableMetadata\n",
        "\n",
        "metadata = MultiTableMetadata()\n",
        "\n",
        "metadata.detect_from_dataframes(\n",
        "    data={\n",
        "        'parent_table': parent_table,\n",
        "        'child_table': child_table\n",
        "    }\n",
        ")"
      ],
      "metadata": {
        "id": "jt8pd3jO_Sxq"
      },
      "execution_count": 29,
      "outputs": []
    },
    {
      "cell_type": "code",
      "source": [
        "metadata"
      ],
      "metadata": {
        "colab": {
          "base_uri": "https://localhost:8080/"
        },
        "id": "6KBn1MLS_id1",
        "outputId": "5d7e5475-1fad-4cda-daa5-839c54b9de43"
      },
      "execution_count": 30,
      "outputs": [
        {
          "output_type": "execute_result",
          "data": {
            "text/plain": [
              "{\n",
              "    \"tables\": {\n",
              "        \"parent_table\": {\n",
              "            \"columns\": {\n",
              "                \"cust_id\": {\n",
              "                    \"sdtype\": \"numerical\"\n",
              "                },\n",
              "                \"name\": {\n",
              "                    \"sdtype\": \"categorical\"\n",
              "                }\n",
              "            }\n",
              "        },\n",
              "        \"child_table\": {\n",
              "            \"columns\": {\n",
              "                \"cust_id\": {\n",
              "                    \"sdtype\": \"numerical\"\n",
              "                },\n",
              "                \"parent_id\": {\n",
              "                    \"sdtype\": \"numerical\"\n",
              "                },\n",
              "                \"age_group\": {\n",
              "                    \"sdtype\": \"numerical\"\n",
              "                },\n",
              "                \"income_group\": {\n",
              "                    \"sdtype\": \"numerical\"\n",
              "                }\n",
              "            }\n",
              "        }\n",
              "    },\n",
              "    \"relationships\": [],\n",
              "    \"METADATA_SPEC_VERSION\": \"MULTI_TABLE_V1\"\n",
              "}"
            ]
          },
          "metadata": {},
          "execution_count": 30
        }
      ]
    },
    {
      "cell_type": "code",
      "source": [
        "metadata.update_column(\n",
        "    table_name='parent_table',\n",
        "    column_name='cust_id',\n",
        "    sdtype='id')\n",
        "\n",
        "metadata.update_column(\n",
        "    table_name='child_table',\n",
        "    column_name='cust_id',\n",
        "    sdtype='id')\n",
        "\n",
        "metadata.update_column(\n",
        "    table_name='child_table',\n",
        "    column_name='parent_id',\n",
        "    sdtype='id')\n",
        "\n",
        "\n",
        "metadata.set_primary_key(table_name='parent_table', column_name='cust_id')\n",
        "metadata.set_primary_key(table_name='child_table', column_name='parent_id')"
      ],
      "metadata": {
        "id": "XI7vMihi_kIB"
      },
      "execution_count": 31,
      "outputs": []
    },
    {
      "cell_type": "code",
      "source": [
        "metadata"
      ],
      "metadata": {
        "colab": {
          "base_uri": "https://localhost:8080/"
        },
        "id": "J2ljZbJMAgdw",
        "outputId": "011f7c09-43cc-424b-f895-0e92f9e672c8"
      },
      "execution_count": 32,
      "outputs": [
        {
          "output_type": "execute_result",
          "data": {
            "text/plain": [
              "{\n",
              "    \"tables\": {\n",
              "        \"parent_table\": {\n",
              "            \"columns\": {\n",
              "                \"cust_id\": {\n",
              "                    \"sdtype\": \"id\"\n",
              "                },\n",
              "                \"name\": {\n",
              "                    \"sdtype\": \"categorical\"\n",
              "                }\n",
              "            },\n",
              "            \"primary_key\": \"cust_id\"\n",
              "        },\n",
              "        \"child_table\": {\n",
              "            \"columns\": {\n",
              "                \"cust_id\": {\n",
              "                    \"sdtype\": \"id\"\n",
              "                },\n",
              "                \"parent_id\": {\n",
              "                    \"sdtype\": \"id\"\n",
              "                },\n",
              "                \"age_group\": {\n",
              "                    \"sdtype\": \"numerical\"\n",
              "                },\n",
              "                \"income_group\": {\n",
              "                    \"sdtype\": \"numerical\"\n",
              "                }\n",
              "            },\n",
              "            \"primary_key\": \"parent_id\"\n",
              "        }\n",
              "    },\n",
              "    \"relationships\": [],\n",
              "    \"METADATA_SPEC_VERSION\": \"MULTI_TABLE_V1\"\n",
              "}"
            ]
          },
          "metadata": {},
          "execution_count": 32
        }
      ]
    },
    {
      "cell_type": "code",
      "source": [
        "metadata.add_relationship(\n",
        "    parent_table_name='parent_table',\n",
        "    child_table_name='child_table',\n",
        "    parent_primary_key='cust_id',\n",
        "    child_foreign_key='cust_id'\n",
        ")\n",
        "\n",
        "\n",
        "metadata"
      ],
      "metadata": {
        "colab": {
          "base_uri": "https://localhost:8080/"
        },
        "id": "G2NxaRZLAsmB",
        "outputId": "e62f7e0e-4d2d-44bb-c1a2-3a0ad3b4e8ed"
      },
      "execution_count": 33,
      "outputs": [
        {
          "output_type": "execute_result",
          "data": {
            "text/plain": [
              "{\n",
              "    \"tables\": {\n",
              "        \"parent_table\": {\n",
              "            \"columns\": {\n",
              "                \"cust_id\": {\n",
              "                    \"sdtype\": \"id\"\n",
              "                },\n",
              "                \"name\": {\n",
              "                    \"sdtype\": \"categorical\"\n",
              "                }\n",
              "            },\n",
              "            \"primary_key\": \"cust_id\"\n",
              "        },\n",
              "        \"child_table\": {\n",
              "            \"columns\": {\n",
              "                \"cust_id\": {\n",
              "                    \"sdtype\": \"id\"\n",
              "                },\n",
              "                \"parent_id\": {\n",
              "                    \"sdtype\": \"id\"\n",
              "                },\n",
              "                \"age_group\": {\n",
              "                    \"sdtype\": \"numerical\"\n",
              "                },\n",
              "                \"income_group\": {\n",
              "                    \"sdtype\": \"numerical\"\n",
              "                }\n",
              "            },\n",
              "            \"primary_key\": \"parent_id\"\n",
              "        }\n",
              "    },\n",
              "    \"relationships\": [\n",
              "        {\n",
              "            \"parent_table_name\": \"parent_table\",\n",
              "            \"child_table_name\": \"child_table\",\n",
              "            \"parent_primary_key\": \"cust_id\",\n",
              "            \"child_foreign_key\": \"cust_id\"\n",
              "        }\n",
              "    ],\n",
              "    \"METADATA_SPEC_VERSION\": \"MULTI_TABLE_V1\"\n",
              "}"
            ]
          },
          "metadata": {},
          "execution_count": 33
        }
      ]
    },
    {
      "cell_type": "code",
      "source": [
        "from sdv.multi_table import HMASynthesizer\n",
        "\n",
        "synthesizer = HMASynthesizer(metadata)\n",
        "synthesizer.fit(real_data)"
      ],
      "metadata": {
        "colab": {
          "base_uri": "https://localhost:8080/"
        },
        "id": "S4EosZQeA_Vv",
        "outputId": "e8552727-6ddd-485e-b23e-55bb5be1669e"
      },
      "execution_count": 34,
      "outputs": [
        {
          "output_type": "stream",
          "name": "stderr",
          "text": [
            "Preprocess Tables: 100%|██████████| 2/2 [00:00<00:00, 13.67it/s]\n"
          ]
        },
        {
          "output_type": "stream",
          "name": "stdout",
          "text": [
            "\n",
            "Learning relationships:\n"
          ]
        },
        {
          "output_type": "stream",
          "name": "stderr",
          "text": [
            "(1/1) Tables 'parent_table' and 'child_table' ('cust_id'): 100%|██████████| 5/5 [00:00<00:00, 30.32it/s]\n"
          ]
        },
        {
          "output_type": "stream",
          "name": "stdout",
          "text": [
            "\n"
          ]
        },
        {
          "output_type": "stream",
          "name": "stderr",
          "text": [
            "Modeling Tables: 100%|██████████| 1/1 [00:01<00:00,  1.29s/it]\n"
          ]
        }
      ]
    },
    {
      "cell_type": "code",
      "source": [
        "synthetic_data = synthesizer.sample(scale=2)"
      ],
      "metadata": {
        "id": "8vGNKyK1COSQ"
      },
      "execution_count": 35,
      "outputs": []
    },
    {
      "cell_type": "code",
      "source": [
        "synthetic_data"
      ],
      "metadata": {
        "colab": {
          "base_uri": "https://localhost:8080/"
        },
        "id": "ASeFWj7SCiJm",
        "outputId": "1f36dfe8-1a67-4c14-a6b1-615d33114dfc"
      },
      "execution_count": 36,
      "outputs": [
        {
          "output_type": "stream",
          "name": "stderr",
          "text": [
            "/usr/local/lib/python3.10/dist-packages/ipykernel/ipkernel.py:283: DeprecationWarning: `should_run_async` will not call `transform_cell` automatically in the future. Please pass the result to `transformed_cell` argument and any exception that happen during thetransform in `preprocessing_exc_tuple` in IPython 7.17 and above.\n",
            "  and should_run_async(code)\n",
            "<frozen importlib._bootstrap>:914: ImportWarning: APICoreClientInfoImportHook.find_spec() not found; falling back to find_module()\n",
            "<frozen importlib._bootstrap>:914: ImportWarning: _PyDriveImportHook.find_spec() not found; falling back to find_module()\n",
            "<frozen importlib._bootstrap>:914: ImportWarning: _OpenCVImportHook.find_spec() not found; falling back to find_module()\n",
            "<frozen importlib._bootstrap>:914: ImportWarning: _BokehImportHook.find_spec() not found; falling back to find_module()\n",
            "<frozen importlib._bootstrap>:914: ImportWarning: _AltairImportHook.find_spec() not found; falling back to find_module()\n"
          ]
        },
        {
          "output_type": "execute_result",
          "data": {
            "text/plain": [
              "{'parent_table':    cust_id name\n",
              " 0        0    E\n",
              " 1        1    A\n",
              " 2        2    B\n",
              " 3        3    B\n",
              " 4        4    C\n",
              " 5        5    D\n",
              " 6        6    B\n",
              " 7        7    C\n",
              " 8        8    C\n",
              " 9        9    E,\n",
              " 'child_table':    cust_id  parent_id  age_group  income_group\n",
              " 0        0          0          3             5\n",
              " 1        1          1          1             2\n",
              " 2        2          2          1             2\n",
              " 3        3          3          3             5\n",
              " 4        4          4          2             2\n",
              " 5        5          5          1             2\n",
              " 6        6          6          1             3\n",
              " 7        7          7          3             5\n",
              " 8        8          8          3             5\n",
              " 9        9          9          1             3}"
            ]
          },
          "metadata": {},
          "execution_count": 36
        }
      ]
    },
    {
      "cell_type": "code",
      "source": [
        "synthetic_data['parent_table'].head()"
      ],
      "metadata": {
        "colab": {
          "base_uri": "https://localhost:8080/",
          "height": 263
        },
        "id": "uTE75XxkCn8l",
        "outputId": "44a4cbdd-6e90-4881-a94b-c0d91182a890"
      },
      "execution_count": 38,
      "outputs": [
        {
          "output_type": "stream",
          "name": "stderr",
          "text": [
            "/usr/local/lib/python3.10/dist-packages/ipykernel/ipkernel.py:283: DeprecationWarning: `should_run_async` will not call `transform_cell` automatically in the future. Please pass the result to `transformed_cell` argument and any exception that happen during thetransform in `preprocessing_exc_tuple` in IPython 7.17 and above.\n",
            "  and should_run_async(code)\n"
          ]
        },
        {
          "output_type": "execute_result",
          "data": {
            "text/plain": [
              "   cust_id name\n",
              "0        0    E\n",
              "1        1    A\n",
              "2        2    B\n",
              "3        3    B\n",
              "4        4    C"
            ],
            "text/html": [
              "\n",
              "  <div id=\"df-9a0c2250-ce40-463b-9b9f-41c42b324e46\" class=\"colab-df-container\">\n",
              "    <div>\n",
              "<style scoped>\n",
              "    .dataframe tbody tr th:only-of-type {\n",
              "        vertical-align: middle;\n",
              "    }\n",
              "\n",
              "    .dataframe tbody tr th {\n",
              "        vertical-align: top;\n",
              "    }\n",
              "\n",
              "    .dataframe thead th {\n",
              "        text-align: right;\n",
              "    }\n",
              "</style>\n",
              "<table border=\"1\" class=\"dataframe\">\n",
              "  <thead>\n",
              "    <tr style=\"text-align: right;\">\n",
              "      <th></th>\n",
              "      <th>cust_id</th>\n",
              "      <th>name</th>\n",
              "    </tr>\n",
              "  </thead>\n",
              "  <tbody>\n",
              "    <tr>\n",
              "      <th>0</th>\n",
              "      <td>0</td>\n",
              "      <td>E</td>\n",
              "    </tr>\n",
              "    <tr>\n",
              "      <th>1</th>\n",
              "      <td>1</td>\n",
              "      <td>A</td>\n",
              "    </tr>\n",
              "    <tr>\n",
              "      <th>2</th>\n",
              "      <td>2</td>\n",
              "      <td>B</td>\n",
              "    </tr>\n",
              "    <tr>\n",
              "      <th>3</th>\n",
              "      <td>3</td>\n",
              "      <td>B</td>\n",
              "    </tr>\n",
              "    <tr>\n",
              "      <th>4</th>\n",
              "      <td>4</td>\n",
              "      <td>C</td>\n",
              "    </tr>\n",
              "  </tbody>\n",
              "</table>\n",
              "</div>\n",
              "    <div class=\"colab-df-buttons\">\n",
              "\n",
              "  <div class=\"colab-df-container\">\n",
              "    <button class=\"colab-df-convert\" onclick=\"convertToInteractive('df-9a0c2250-ce40-463b-9b9f-41c42b324e46')\"\n",
              "            title=\"Convert this dataframe to an interactive table.\"\n",
              "            style=\"display:none;\">\n",
              "\n",
              "  <svg xmlns=\"http://www.w3.org/2000/svg\" height=\"24px\" viewBox=\"0 -960 960 960\">\n",
              "    <path d=\"M120-120v-720h720v720H120Zm60-500h600v-160H180v160Zm220 220h160v-160H400v160Zm0 220h160v-160H400v160ZM180-400h160v-160H180v160Zm440 0h160v-160H620v160ZM180-180h160v-160H180v160Zm440 0h160v-160H620v160Z\"/>\n",
              "  </svg>\n",
              "    </button>\n",
              "\n",
              "  <style>\n",
              "    .colab-df-container {\n",
              "      display:flex;\n",
              "      gap: 12px;\n",
              "    }\n",
              "\n",
              "    .colab-df-convert {\n",
              "      background-color: #E8F0FE;\n",
              "      border: none;\n",
              "      border-radius: 50%;\n",
              "      cursor: pointer;\n",
              "      display: none;\n",
              "      fill: #1967D2;\n",
              "      height: 32px;\n",
              "      padding: 0 0 0 0;\n",
              "      width: 32px;\n",
              "    }\n",
              "\n",
              "    .colab-df-convert:hover {\n",
              "      background-color: #E2EBFA;\n",
              "      box-shadow: 0px 1px 2px rgba(60, 64, 67, 0.3), 0px 1px 3px 1px rgba(60, 64, 67, 0.15);\n",
              "      fill: #174EA6;\n",
              "    }\n",
              "\n",
              "    .colab-df-buttons div {\n",
              "      margin-bottom: 4px;\n",
              "    }\n",
              "\n",
              "    [theme=dark] .colab-df-convert {\n",
              "      background-color: #3B4455;\n",
              "      fill: #D2E3FC;\n",
              "    }\n",
              "\n",
              "    [theme=dark] .colab-df-convert:hover {\n",
              "      background-color: #434B5C;\n",
              "      box-shadow: 0px 1px 3px 1px rgba(0, 0, 0, 0.15);\n",
              "      filter: drop-shadow(0px 1px 2px rgba(0, 0, 0, 0.3));\n",
              "      fill: #FFFFFF;\n",
              "    }\n",
              "  </style>\n",
              "\n",
              "    <script>\n",
              "      const buttonEl =\n",
              "        document.querySelector('#df-9a0c2250-ce40-463b-9b9f-41c42b324e46 button.colab-df-convert');\n",
              "      buttonEl.style.display =\n",
              "        google.colab.kernel.accessAllowed ? 'block' : 'none';\n",
              "\n",
              "      async function convertToInteractive(key) {\n",
              "        const element = document.querySelector('#df-9a0c2250-ce40-463b-9b9f-41c42b324e46');\n",
              "        const dataTable =\n",
              "          await google.colab.kernel.invokeFunction('convertToInteractive',\n",
              "                                                    [key], {});\n",
              "        if (!dataTable) return;\n",
              "\n",
              "        const docLinkHtml = 'Like what you see? Visit the ' +\n",
              "          '<a target=\"_blank\" href=https://colab.research.google.com/notebooks/data_table.ipynb>data table notebook</a>'\n",
              "          + ' to learn more about interactive tables.';\n",
              "        element.innerHTML = '';\n",
              "        dataTable['output_type'] = 'display_data';\n",
              "        await google.colab.output.renderOutput(dataTable, element);\n",
              "        const docLink = document.createElement('div');\n",
              "        docLink.innerHTML = docLinkHtml;\n",
              "        element.appendChild(docLink);\n",
              "      }\n",
              "    </script>\n",
              "  </div>\n",
              "\n",
              "\n",
              "<div id=\"df-13d7a61b-c865-44d6-bb46-91f5de3f09d9\">\n",
              "  <button class=\"colab-df-quickchart\" onclick=\"quickchart('df-13d7a61b-c865-44d6-bb46-91f5de3f09d9')\"\n",
              "            title=\"Suggest charts.\"\n",
              "            style=\"display:none;\">\n",
              "\n",
              "<svg xmlns=\"http://www.w3.org/2000/svg\" height=\"24px\"viewBox=\"0 0 24 24\"\n",
              "     width=\"24px\">\n",
              "    <g>\n",
              "        <path d=\"M19 3H5c-1.1 0-2 .9-2 2v14c0 1.1.9 2 2 2h14c1.1 0 2-.9 2-2V5c0-1.1-.9-2-2-2zM9 17H7v-7h2v7zm4 0h-2V7h2v10zm4 0h-2v-4h2v4z\"/>\n",
              "    </g>\n",
              "</svg>\n",
              "  </button>\n",
              "\n",
              "<style>\n",
              "  .colab-df-quickchart {\n",
              "      --bg-color: #E8F0FE;\n",
              "      --fill-color: #1967D2;\n",
              "      --hover-bg-color: #E2EBFA;\n",
              "      --hover-fill-color: #174EA6;\n",
              "      --disabled-fill-color: #AAA;\n",
              "      --disabled-bg-color: #DDD;\n",
              "  }\n",
              "\n",
              "  [theme=dark] .colab-df-quickchart {\n",
              "      --bg-color: #3B4455;\n",
              "      --fill-color: #D2E3FC;\n",
              "      --hover-bg-color: #434B5C;\n",
              "      --hover-fill-color: #FFFFFF;\n",
              "      --disabled-bg-color: #3B4455;\n",
              "      --disabled-fill-color: #666;\n",
              "  }\n",
              "\n",
              "  .colab-df-quickchart {\n",
              "    background-color: var(--bg-color);\n",
              "    border: none;\n",
              "    border-radius: 50%;\n",
              "    cursor: pointer;\n",
              "    display: none;\n",
              "    fill: var(--fill-color);\n",
              "    height: 32px;\n",
              "    padding: 0;\n",
              "    width: 32px;\n",
              "  }\n",
              "\n",
              "  .colab-df-quickchart:hover {\n",
              "    background-color: var(--hover-bg-color);\n",
              "    box-shadow: 0 1px 2px rgba(60, 64, 67, 0.3), 0 1px 3px 1px rgba(60, 64, 67, 0.15);\n",
              "    fill: var(--button-hover-fill-color);\n",
              "  }\n",
              "\n",
              "  .colab-df-quickchart-complete:disabled,\n",
              "  .colab-df-quickchart-complete:disabled:hover {\n",
              "    background-color: var(--disabled-bg-color);\n",
              "    fill: var(--disabled-fill-color);\n",
              "    box-shadow: none;\n",
              "  }\n",
              "\n",
              "  .colab-df-spinner {\n",
              "    border: 2px solid var(--fill-color);\n",
              "    border-color: transparent;\n",
              "    border-bottom-color: var(--fill-color);\n",
              "    animation:\n",
              "      spin 1s steps(1) infinite;\n",
              "  }\n",
              "\n",
              "  @keyframes spin {\n",
              "    0% {\n",
              "      border-color: transparent;\n",
              "      border-bottom-color: var(--fill-color);\n",
              "      border-left-color: var(--fill-color);\n",
              "    }\n",
              "    20% {\n",
              "      border-color: transparent;\n",
              "      border-left-color: var(--fill-color);\n",
              "      border-top-color: var(--fill-color);\n",
              "    }\n",
              "    30% {\n",
              "      border-color: transparent;\n",
              "      border-left-color: var(--fill-color);\n",
              "      border-top-color: var(--fill-color);\n",
              "      border-right-color: var(--fill-color);\n",
              "    }\n",
              "    40% {\n",
              "      border-color: transparent;\n",
              "      border-right-color: var(--fill-color);\n",
              "      border-top-color: var(--fill-color);\n",
              "    }\n",
              "    60% {\n",
              "      border-color: transparent;\n",
              "      border-right-color: var(--fill-color);\n",
              "    }\n",
              "    80% {\n",
              "      border-color: transparent;\n",
              "      border-right-color: var(--fill-color);\n",
              "      border-bottom-color: var(--fill-color);\n",
              "    }\n",
              "    90% {\n",
              "      border-color: transparent;\n",
              "      border-bottom-color: var(--fill-color);\n",
              "    }\n",
              "  }\n",
              "</style>\n",
              "\n",
              "  <script>\n",
              "    async function quickchart(key) {\n",
              "      const quickchartButtonEl =\n",
              "        document.querySelector('#' + key + ' button');\n",
              "      quickchartButtonEl.disabled = true;  // To prevent multiple clicks.\n",
              "      quickchartButtonEl.classList.add('colab-df-spinner');\n",
              "      try {\n",
              "        const charts = await google.colab.kernel.invokeFunction(\n",
              "            'suggestCharts', [key], {});\n",
              "      } catch (error) {\n",
              "        console.error('Error during call to suggestCharts:', error);\n",
              "      }\n",
              "      quickchartButtonEl.classList.remove('colab-df-spinner');\n",
              "      quickchartButtonEl.classList.add('colab-df-quickchart-complete');\n",
              "    }\n",
              "    (() => {\n",
              "      let quickchartButtonEl =\n",
              "        document.querySelector('#df-13d7a61b-c865-44d6-bb46-91f5de3f09d9 button');\n",
              "      quickchartButtonEl.style.display =\n",
              "        google.colab.kernel.accessAllowed ? 'block' : 'none';\n",
              "    })();\n",
              "  </script>\n",
              "</div>\n",
              "\n",
              "    </div>\n",
              "  </div>\n"
            ]
          },
          "metadata": {},
          "execution_count": 38
        }
      ]
    },
    {
      "cell_type": "code",
      "source": [
        "synthetic_data['child_table'].head()"
      ],
      "metadata": {
        "colab": {
          "base_uri": "https://localhost:8080/",
          "height": 206
        },
        "id": "aalZ9-mJCruF",
        "outputId": "61c95bf9-2cc8-43a0-c832-a6e568d4e68e"
      },
      "execution_count": 39,
      "outputs": [
        {
          "output_type": "execute_result",
          "data": {
            "text/plain": [
              "   cust_id  parent_id  age_group  income_group\n",
              "0        0          0          3             5\n",
              "1        1          1          1             2\n",
              "2        2          2          1             2\n",
              "3        3          3          3             5\n",
              "4        4          4          2             2"
            ],
            "text/html": [
              "\n",
              "  <div id=\"df-2740cd3f-38f2-4926-af73-91306101ee9f\" class=\"colab-df-container\">\n",
              "    <div>\n",
              "<style scoped>\n",
              "    .dataframe tbody tr th:only-of-type {\n",
              "        vertical-align: middle;\n",
              "    }\n",
              "\n",
              "    .dataframe tbody tr th {\n",
              "        vertical-align: top;\n",
              "    }\n",
              "\n",
              "    .dataframe thead th {\n",
              "        text-align: right;\n",
              "    }\n",
              "</style>\n",
              "<table border=\"1\" class=\"dataframe\">\n",
              "  <thead>\n",
              "    <tr style=\"text-align: right;\">\n",
              "      <th></th>\n",
              "      <th>cust_id</th>\n",
              "      <th>parent_id</th>\n",
              "      <th>age_group</th>\n",
              "      <th>income_group</th>\n",
              "    </tr>\n",
              "  </thead>\n",
              "  <tbody>\n",
              "    <tr>\n",
              "      <th>0</th>\n",
              "      <td>0</td>\n",
              "      <td>0</td>\n",
              "      <td>3</td>\n",
              "      <td>5</td>\n",
              "    </tr>\n",
              "    <tr>\n",
              "      <th>1</th>\n",
              "      <td>1</td>\n",
              "      <td>1</td>\n",
              "      <td>1</td>\n",
              "      <td>2</td>\n",
              "    </tr>\n",
              "    <tr>\n",
              "      <th>2</th>\n",
              "      <td>2</td>\n",
              "      <td>2</td>\n",
              "      <td>1</td>\n",
              "      <td>2</td>\n",
              "    </tr>\n",
              "    <tr>\n",
              "      <th>3</th>\n",
              "      <td>3</td>\n",
              "      <td>3</td>\n",
              "      <td>3</td>\n",
              "      <td>5</td>\n",
              "    </tr>\n",
              "    <tr>\n",
              "      <th>4</th>\n",
              "      <td>4</td>\n",
              "      <td>4</td>\n",
              "      <td>2</td>\n",
              "      <td>2</td>\n",
              "    </tr>\n",
              "  </tbody>\n",
              "</table>\n",
              "</div>\n",
              "    <div class=\"colab-df-buttons\">\n",
              "\n",
              "  <div class=\"colab-df-container\">\n",
              "    <button class=\"colab-df-convert\" onclick=\"convertToInteractive('df-2740cd3f-38f2-4926-af73-91306101ee9f')\"\n",
              "            title=\"Convert this dataframe to an interactive table.\"\n",
              "            style=\"display:none;\">\n",
              "\n",
              "  <svg xmlns=\"http://www.w3.org/2000/svg\" height=\"24px\" viewBox=\"0 -960 960 960\">\n",
              "    <path d=\"M120-120v-720h720v720H120Zm60-500h600v-160H180v160Zm220 220h160v-160H400v160Zm0 220h160v-160H400v160ZM180-400h160v-160H180v160Zm440 0h160v-160H620v160ZM180-180h160v-160H180v160Zm440 0h160v-160H620v160Z\"/>\n",
              "  </svg>\n",
              "    </button>\n",
              "\n",
              "  <style>\n",
              "    .colab-df-container {\n",
              "      display:flex;\n",
              "      gap: 12px;\n",
              "    }\n",
              "\n",
              "    .colab-df-convert {\n",
              "      background-color: #E8F0FE;\n",
              "      border: none;\n",
              "      border-radius: 50%;\n",
              "      cursor: pointer;\n",
              "      display: none;\n",
              "      fill: #1967D2;\n",
              "      height: 32px;\n",
              "      padding: 0 0 0 0;\n",
              "      width: 32px;\n",
              "    }\n",
              "\n",
              "    .colab-df-convert:hover {\n",
              "      background-color: #E2EBFA;\n",
              "      box-shadow: 0px 1px 2px rgba(60, 64, 67, 0.3), 0px 1px 3px 1px rgba(60, 64, 67, 0.15);\n",
              "      fill: #174EA6;\n",
              "    }\n",
              "\n",
              "    .colab-df-buttons div {\n",
              "      margin-bottom: 4px;\n",
              "    }\n",
              "\n",
              "    [theme=dark] .colab-df-convert {\n",
              "      background-color: #3B4455;\n",
              "      fill: #D2E3FC;\n",
              "    }\n",
              "\n",
              "    [theme=dark] .colab-df-convert:hover {\n",
              "      background-color: #434B5C;\n",
              "      box-shadow: 0px 1px 3px 1px rgba(0, 0, 0, 0.15);\n",
              "      filter: drop-shadow(0px 1px 2px rgba(0, 0, 0, 0.3));\n",
              "      fill: #FFFFFF;\n",
              "    }\n",
              "  </style>\n",
              "\n",
              "    <script>\n",
              "      const buttonEl =\n",
              "        document.querySelector('#df-2740cd3f-38f2-4926-af73-91306101ee9f button.colab-df-convert');\n",
              "      buttonEl.style.display =\n",
              "        google.colab.kernel.accessAllowed ? 'block' : 'none';\n",
              "\n",
              "      async function convertToInteractive(key) {\n",
              "        const element = document.querySelector('#df-2740cd3f-38f2-4926-af73-91306101ee9f');\n",
              "        const dataTable =\n",
              "          await google.colab.kernel.invokeFunction('convertToInteractive',\n",
              "                                                    [key], {});\n",
              "        if (!dataTable) return;\n",
              "\n",
              "        const docLinkHtml = 'Like what you see? Visit the ' +\n",
              "          '<a target=\"_blank\" href=https://colab.research.google.com/notebooks/data_table.ipynb>data table notebook</a>'\n",
              "          + ' to learn more about interactive tables.';\n",
              "        element.innerHTML = '';\n",
              "        dataTable['output_type'] = 'display_data';\n",
              "        await google.colab.output.renderOutput(dataTable, element);\n",
              "        const docLink = document.createElement('div');\n",
              "        docLink.innerHTML = docLinkHtml;\n",
              "        element.appendChild(docLink);\n",
              "      }\n",
              "    </script>\n",
              "  </div>\n",
              "\n",
              "\n",
              "<div id=\"df-f9e46797-ccd8-4d12-b220-442a926bcf3f\">\n",
              "  <button class=\"colab-df-quickchart\" onclick=\"quickchart('df-f9e46797-ccd8-4d12-b220-442a926bcf3f')\"\n",
              "            title=\"Suggest charts.\"\n",
              "            style=\"display:none;\">\n",
              "\n",
              "<svg xmlns=\"http://www.w3.org/2000/svg\" height=\"24px\"viewBox=\"0 0 24 24\"\n",
              "     width=\"24px\">\n",
              "    <g>\n",
              "        <path d=\"M19 3H5c-1.1 0-2 .9-2 2v14c0 1.1.9 2 2 2h14c1.1 0 2-.9 2-2V5c0-1.1-.9-2-2-2zM9 17H7v-7h2v7zm4 0h-2V7h2v10zm4 0h-2v-4h2v4z\"/>\n",
              "    </g>\n",
              "</svg>\n",
              "  </button>\n",
              "\n",
              "<style>\n",
              "  .colab-df-quickchart {\n",
              "      --bg-color: #E8F0FE;\n",
              "      --fill-color: #1967D2;\n",
              "      --hover-bg-color: #E2EBFA;\n",
              "      --hover-fill-color: #174EA6;\n",
              "      --disabled-fill-color: #AAA;\n",
              "      --disabled-bg-color: #DDD;\n",
              "  }\n",
              "\n",
              "  [theme=dark] .colab-df-quickchart {\n",
              "      --bg-color: #3B4455;\n",
              "      --fill-color: #D2E3FC;\n",
              "      --hover-bg-color: #434B5C;\n",
              "      --hover-fill-color: #FFFFFF;\n",
              "      --disabled-bg-color: #3B4455;\n",
              "      --disabled-fill-color: #666;\n",
              "  }\n",
              "\n",
              "  .colab-df-quickchart {\n",
              "    background-color: var(--bg-color);\n",
              "    border: none;\n",
              "    border-radius: 50%;\n",
              "    cursor: pointer;\n",
              "    display: none;\n",
              "    fill: var(--fill-color);\n",
              "    height: 32px;\n",
              "    padding: 0;\n",
              "    width: 32px;\n",
              "  }\n",
              "\n",
              "  .colab-df-quickchart:hover {\n",
              "    background-color: var(--hover-bg-color);\n",
              "    box-shadow: 0 1px 2px rgba(60, 64, 67, 0.3), 0 1px 3px 1px rgba(60, 64, 67, 0.15);\n",
              "    fill: var(--button-hover-fill-color);\n",
              "  }\n",
              "\n",
              "  .colab-df-quickchart-complete:disabled,\n",
              "  .colab-df-quickchart-complete:disabled:hover {\n",
              "    background-color: var(--disabled-bg-color);\n",
              "    fill: var(--disabled-fill-color);\n",
              "    box-shadow: none;\n",
              "  }\n",
              "\n",
              "  .colab-df-spinner {\n",
              "    border: 2px solid var(--fill-color);\n",
              "    border-color: transparent;\n",
              "    border-bottom-color: var(--fill-color);\n",
              "    animation:\n",
              "      spin 1s steps(1) infinite;\n",
              "  }\n",
              "\n",
              "  @keyframes spin {\n",
              "    0% {\n",
              "      border-color: transparent;\n",
              "      border-bottom-color: var(--fill-color);\n",
              "      border-left-color: var(--fill-color);\n",
              "    }\n",
              "    20% {\n",
              "      border-color: transparent;\n",
              "      border-left-color: var(--fill-color);\n",
              "      border-top-color: var(--fill-color);\n",
              "    }\n",
              "    30% {\n",
              "      border-color: transparent;\n",
              "      border-left-color: var(--fill-color);\n",
              "      border-top-color: var(--fill-color);\n",
              "      border-right-color: var(--fill-color);\n",
              "    }\n",
              "    40% {\n",
              "      border-color: transparent;\n",
              "      border-right-color: var(--fill-color);\n",
              "      border-top-color: var(--fill-color);\n",
              "    }\n",
              "    60% {\n",
              "      border-color: transparent;\n",
              "      border-right-color: var(--fill-color);\n",
              "    }\n",
              "    80% {\n",
              "      border-color: transparent;\n",
              "      border-right-color: var(--fill-color);\n",
              "      border-bottom-color: var(--fill-color);\n",
              "    }\n",
              "    90% {\n",
              "      border-color: transparent;\n",
              "      border-bottom-color: var(--fill-color);\n",
              "    }\n",
              "  }\n",
              "</style>\n",
              "\n",
              "  <script>\n",
              "    async function quickchart(key) {\n",
              "      const quickchartButtonEl =\n",
              "        document.querySelector('#' + key + ' button');\n",
              "      quickchartButtonEl.disabled = true;  // To prevent multiple clicks.\n",
              "      quickchartButtonEl.classList.add('colab-df-spinner');\n",
              "      try {\n",
              "        const charts = await google.colab.kernel.invokeFunction(\n",
              "            'suggestCharts', [key], {});\n",
              "      } catch (error) {\n",
              "        console.error('Error during call to suggestCharts:', error);\n",
              "      }\n",
              "      quickchartButtonEl.classList.remove('colab-df-spinner');\n",
              "      quickchartButtonEl.classList.add('colab-df-quickchart-complete');\n",
              "    }\n",
              "    (() => {\n",
              "      let quickchartButtonEl =\n",
              "        document.querySelector('#df-f9e46797-ccd8-4d12-b220-442a926bcf3f button');\n",
              "      quickchartButtonEl.style.display =\n",
              "        google.colab.kernel.accessAllowed ? 'block' : 'none';\n",
              "    })();\n",
              "  </script>\n",
              "</div>\n",
              "\n",
              "    </div>\n",
              "  </div>\n"
            ]
          },
          "metadata": {},
          "execution_count": 39
        }
      ]
    },
    {
      "cell_type": "code",
      "source": [
        "from sdv.evaluation.multi_table import evaluate_quality\n",
        "\n",
        "quality_report = evaluate_quality(\n",
        "    real_data,\n",
        "    synthetic_data,\n",
        "    metadata,\n",
        "    verbose=False\n",
        ")"
      ],
      "metadata": {
        "colab": {
          "base_uri": "https://localhost:8080/"
        },
        "id": "a6BIRtaeCwcB",
        "outputId": "893790ea-0b03-413b-9332-d62340c69217"
      },
      "execution_count": 40,
      "outputs": [
        {
          "output_type": "stream",
          "name": "stderr",
          "text": [
            "<frozen importlib._bootstrap>:914: ImportWarning: APICoreClientInfoImportHook.find_spec() not found; falling back to find_module()\n",
            "<frozen importlib._bootstrap>:914: ImportWarning: _PyDriveImportHook.find_spec() not found; falling back to find_module()\n",
            "<frozen importlib._bootstrap>:914: ImportWarning: _OpenCVImportHook.find_spec() not found; falling back to find_module()\n",
            "<frozen importlib._bootstrap>:914: ImportWarning: _BokehImportHook.find_spec() not found; falling back to find_module()\n",
            "<frozen importlib._bootstrap>:914: ImportWarning: _AltairImportHook.find_spec() not found; falling back to find_module()\n",
            "<frozen importlib._bootstrap>:914: ImportWarning: APICoreClientInfoImportHook.find_spec() not found; falling back to find_module()\n",
            "<frozen importlib._bootstrap>:914: ImportWarning: _PyDriveImportHook.find_spec() not found; falling back to find_module()\n",
            "<frozen importlib._bootstrap>:914: ImportWarning: _OpenCVImportHook.find_spec() not found; falling back to find_module()\n",
            "<frozen importlib._bootstrap>:914: ImportWarning: _BokehImportHook.find_spec() not found; falling back to find_module()\n",
            "<frozen importlib._bootstrap>:914: ImportWarning: _AltairImportHook.find_spec() not found; falling back to find_module()\n"
          ]
        }
      ]
    },
    {
      "cell_type": "code",
      "source": [
        "fig = quality_report.get_visualization('Column Shapes', table_name='child_table')\n",
        "fig.show()"
      ],
      "metadata": {
        "colab": {
          "base_uri": "https://localhost:8080/",
          "height": 1000
        },
        "id": "jayrPANBC7us",
        "outputId": "f3f3dd8f-8fbc-4731-bdf6-7d4f832f6990"
      },
      "execution_count": 42,
      "outputs": [
        {
          "output_type": "stream",
          "name": "stderr",
          "text": [
            "<frozen importlib._bootstrap>:914: ImportWarning: APICoreClientInfoImportHook.find_spec() not found; falling back to find_module()\n",
            "<frozen importlib._bootstrap>:914: ImportWarning: _PyDriveImportHook.find_spec() not found; falling back to find_module()\n",
            "<frozen importlib._bootstrap>:914: ImportWarning: _OpenCVImportHook.find_spec() not found; falling back to find_module()\n",
            "<frozen importlib._bootstrap>:914: ImportWarning: _BokehImportHook.find_spec() not found; falling back to find_module()\n",
            "<frozen importlib._bootstrap>:914: ImportWarning: _AltairImportHook.find_spec() not found; falling back to find_module()\n",
            "<frozen importlib._bootstrap>:914: ImportWarning: APICoreClientInfoImportHook.find_spec() not found; falling back to find_module()\n",
            "<frozen importlib._bootstrap>:914: ImportWarning: _PyDriveImportHook.find_spec() not found; falling back to find_module()\n",
            "<frozen importlib._bootstrap>:914: ImportWarning: _OpenCVImportHook.find_spec() not found; falling back to find_module()\n",
            "<frozen importlib._bootstrap>:914: ImportWarning: _BokehImportHook.find_spec() not found; falling back to find_module()\n",
            "<frozen importlib._bootstrap>:914: ImportWarning: _AltairImportHook.find_spec() not found; falling back to find_module()\n",
            "<frozen importlib._bootstrap>:914: ImportWarning: APICoreClientInfoImportHook.find_spec() not found; falling back to find_module()\n",
            "<frozen importlib._bootstrap>:914: ImportWarning: _PyDriveImportHook.find_spec() not found; falling back to find_module()\n",
            "<frozen importlib._bootstrap>:914: ImportWarning: _OpenCVImportHook.find_spec() not found; falling back to find_module()\n",
            "<frozen importlib._bootstrap>:914: ImportWarning: _BokehImportHook.find_spec() not found; falling back to find_module()\n",
            "<frozen importlib._bootstrap>:914: ImportWarning: _AltairImportHook.find_spec() not found; falling back to find_module()\n",
            "<frozen importlib._bootstrap>:914: ImportWarning:\n",
            "\n",
            "APICoreClientInfoImportHook.find_spec() not found; falling back to find_module()\n",
            "\n",
            "<frozen importlib._bootstrap>:914: ImportWarning:\n",
            "\n",
            "_PyDriveImportHook.find_spec() not found; falling back to find_module()\n",
            "\n",
            "<frozen importlib._bootstrap>:914: ImportWarning:\n",
            "\n",
            "_OpenCVImportHook.find_spec() not found; falling back to find_module()\n",
            "\n",
            "<frozen importlib._bootstrap>:914: ImportWarning:\n",
            "\n",
            "_BokehImportHook.find_spec() not found; falling back to find_module()\n",
            "\n",
            "<frozen importlib._bootstrap>:914: ImportWarning:\n",
            "\n",
            "_AltairImportHook.find_spec() not found; falling back to find_module()\n",
            "\n",
            "<frozen importlib._bootstrap>:914: ImportWarning:\n",
            "\n",
            "APICoreClientInfoImportHook.find_spec() not found; falling back to find_module()\n",
            "\n",
            "<frozen importlib._bootstrap>:914: ImportWarning:\n",
            "\n",
            "_PyDriveImportHook.find_spec() not found; falling back to find_module()\n",
            "\n",
            "<frozen importlib._bootstrap>:914: ImportWarning:\n",
            "\n",
            "_OpenCVImportHook.find_spec() not found; falling back to find_module()\n",
            "\n",
            "<frozen importlib._bootstrap>:914: ImportWarning:\n",
            "\n",
            "_BokehImportHook.find_spec() not found; falling back to find_module()\n",
            "\n",
            "<frozen importlib._bootstrap>:914: ImportWarning:\n",
            "\n",
            "_AltairImportHook.find_spec() not found; falling back to find_module()\n",
            "\n"
          ]
        },
        {
          "output_type": "display_data",
          "data": {
            "text/html": [
              "<html>\n",
              "<head><meta charset=\"utf-8\" /></head>\n",
              "<body>\n",
              "    <div>            <script src=\"https://cdnjs.cloudflare.com/ajax/libs/mathjax/2.7.5/MathJax.js?config=TeX-AMS-MML_SVG\"></script><script type=\"text/javascript\">if (window.MathJax && window.MathJax.Hub && window.MathJax.Hub.Config) {window.MathJax.Hub.Config({SVG: {font: \"STIX-Web\"}});}</script>                <script type=\"text/javascript\">window.PlotlyConfig = {MathJaxConfig: 'local'};</script>\n",
              "        <script charset=\"utf-8\" src=\"https://cdn.plot.ly/plotly-2.24.1.min.js\"></script>                <div id=\"40c7f6cd-fb51-47fa-b9bf-ff6abe3221ea\" class=\"plotly-graph-div\" style=\"height:525px; width:100%;\"></div>            <script type=\"text/javascript\">                                    window.PLOTLYENV=window.PLOTLYENV || {};                                    if (document.getElementById(\"40c7f6cd-fb51-47fa-b9bf-ff6abe3221ea\")) {                    Plotly.newPlot(                        \"40c7f6cd-fb51-47fa-b9bf-ff6abe3221ea\",                        [{\"alignmentgroup\":\"True\",\"customdata\":[[\"KSComplement\"],[\"KSComplement\"]],\"hovertemplate\":\"\\u003cb\\u003e%{hovertext}\\u003c\\u002fb\\u003e\\u003cbr\\u003e\\u003cbr\\u003eMetric=%{customdata[0]}\\u003cbr\\u003eScore=%{y}\\u003cextra\\u003e\\u003c\\u002fextra\\u003e\",\"hovertext\":[\"age_group\",\"income_group\"],\"legendgroup\":\"KSComplement\",\"marker\":{\"color\":\"#000036\",\"pattern\":{\"shape\":\"\"}},\"name\":\"KSComplement\",\"offsetgroup\":\"KSComplement\",\"orientation\":\"v\",\"showlegend\":true,\"textposition\":\"auto\",\"x\":[\"age_group\",\"income_group\"],\"xaxis\":\"x\",\"y\":[0.9,0.8],\"yaxis\":\"y\",\"type\":\"bar\"}],                        {\"template\":{\"data\":{\"histogram2dcontour\":[{\"type\":\"histogram2dcontour\",\"colorbar\":{\"outlinewidth\":0,\"ticks\":\"\"},\"colorscale\":[[0.0,\"#0d0887\"],[0.1111111111111111,\"#46039f\"],[0.2222222222222222,\"#7201a8\"],[0.3333333333333333,\"#9c179e\"],[0.4444444444444444,\"#bd3786\"],[0.5555555555555556,\"#d8576b\"],[0.6666666666666666,\"#ed7953\"],[0.7777777777777778,\"#fb9f3a\"],[0.8888888888888888,\"#fdca26\"],[1.0,\"#f0f921\"]]}],\"choropleth\":[{\"type\":\"choropleth\",\"colorbar\":{\"outlinewidth\":0,\"ticks\":\"\"}}],\"histogram2d\":[{\"type\":\"histogram2d\",\"colorbar\":{\"outlinewidth\":0,\"ticks\":\"\"},\"colorscale\":[[0.0,\"#0d0887\"],[0.1111111111111111,\"#46039f\"],[0.2222222222222222,\"#7201a8\"],[0.3333333333333333,\"#9c179e\"],[0.4444444444444444,\"#bd3786\"],[0.5555555555555556,\"#d8576b\"],[0.6666666666666666,\"#ed7953\"],[0.7777777777777778,\"#fb9f3a\"],[0.8888888888888888,\"#fdca26\"],[1.0,\"#f0f921\"]]}],\"heatmap\":[{\"type\":\"heatmap\",\"colorbar\":{\"outlinewidth\":0,\"ticks\":\"\"},\"colorscale\":[[0.0,\"#0d0887\"],[0.1111111111111111,\"#46039f\"],[0.2222222222222222,\"#7201a8\"],[0.3333333333333333,\"#9c179e\"],[0.4444444444444444,\"#bd3786\"],[0.5555555555555556,\"#d8576b\"],[0.6666666666666666,\"#ed7953\"],[0.7777777777777778,\"#fb9f3a\"],[0.8888888888888888,\"#fdca26\"],[1.0,\"#f0f921\"]]}],\"heatmapgl\":[{\"type\":\"heatmapgl\",\"colorbar\":{\"outlinewidth\":0,\"ticks\":\"\"},\"colorscale\":[[0.0,\"#0d0887\"],[0.1111111111111111,\"#46039f\"],[0.2222222222222222,\"#7201a8\"],[0.3333333333333333,\"#9c179e\"],[0.4444444444444444,\"#bd3786\"],[0.5555555555555556,\"#d8576b\"],[0.6666666666666666,\"#ed7953\"],[0.7777777777777778,\"#fb9f3a\"],[0.8888888888888888,\"#fdca26\"],[1.0,\"#f0f921\"]]}],\"contourcarpet\":[{\"type\":\"contourcarpet\",\"colorbar\":{\"outlinewidth\":0,\"ticks\":\"\"}}],\"contour\":[{\"type\":\"contour\",\"colorbar\":{\"outlinewidth\":0,\"ticks\":\"\"},\"colorscale\":[[0.0,\"#0d0887\"],[0.1111111111111111,\"#46039f\"],[0.2222222222222222,\"#7201a8\"],[0.3333333333333333,\"#9c179e\"],[0.4444444444444444,\"#bd3786\"],[0.5555555555555556,\"#d8576b\"],[0.6666666666666666,\"#ed7953\"],[0.7777777777777778,\"#fb9f3a\"],[0.8888888888888888,\"#fdca26\"],[1.0,\"#f0f921\"]]}],\"surface\":[{\"type\":\"surface\",\"colorbar\":{\"outlinewidth\":0,\"ticks\":\"\"},\"colorscale\":[[0.0,\"#0d0887\"],[0.1111111111111111,\"#46039f\"],[0.2222222222222222,\"#7201a8\"],[0.3333333333333333,\"#9c179e\"],[0.4444444444444444,\"#bd3786\"],[0.5555555555555556,\"#d8576b\"],[0.6666666666666666,\"#ed7953\"],[0.7777777777777778,\"#fb9f3a\"],[0.8888888888888888,\"#fdca26\"],[1.0,\"#f0f921\"]]}],\"mesh3d\":[{\"type\":\"mesh3d\",\"colorbar\":{\"outlinewidth\":0,\"ticks\":\"\"}}],\"scatter\":[{\"fillpattern\":{\"fillmode\":\"overlay\",\"size\":10,\"solidity\":0.2},\"type\":\"scatter\"}],\"parcoords\":[{\"type\":\"parcoords\",\"line\":{\"colorbar\":{\"outlinewidth\":0,\"ticks\":\"\"}}}],\"scatterpolargl\":[{\"type\":\"scatterpolargl\",\"marker\":{\"colorbar\":{\"outlinewidth\":0,\"ticks\":\"\"}}}],\"bar\":[{\"error_x\":{\"color\":\"#2a3f5f\"},\"error_y\":{\"color\":\"#2a3f5f\"},\"marker\":{\"line\":{\"color\":\"#E5ECF6\",\"width\":0.5},\"pattern\":{\"fillmode\":\"overlay\",\"size\":10,\"solidity\":0.2}},\"type\":\"bar\"}],\"scattergeo\":[{\"type\":\"scattergeo\",\"marker\":{\"colorbar\":{\"outlinewidth\":0,\"ticks\":\"\"}}}],\"scatterpolar\":[{\"type\":\"scatterpolar\",\"marker\":{\"colorbar\":{\"outlinewidth\":0,\"ticks\":\"\"}}}],\"histogram\":[{\"marker\":{\"pattern\":{\"fillmode\":\"overlay\",\"size\":10,\"solidity\":0.2}},\"type\":\"histogram\"}],\"scattergl\":[{\"type\":\"scattergl\",\"marker\":{\"colorbar\":{\"outlinewidth\":0,\"ticks\":\"\"}}}],\"scatter3d\":[{\"type\":\"scatter3d\",\"line\":{\"colorbar\":{\"outlinewidth\":0,\"ticks\":\"\"}},\"marker\":{\"colorbar\":{\"outlinewidth\":0,\"ticks\":\"\"}}}],\"scattermapbox\":[{\"type\":\"scattermapbox\",\"marker\":{\"colorbar\":{\"outlinewidth\":0,\"ticks\":\"\"}}}],\"scatterternary\":[{\"type\":\"scatterternary\",\"marker\":{\"colorbar\":{\"outlinewidth\":0,\"ticks\":\"\"}}}],\"scattercarpet\":[{\"type\":\"scattercarpet\",\"marker\":{\"colorbar\":{\"outlinewidth\":0,\"ticks\":\"\"}}}],\"carpet\":[{\"aaxis\":{\"endlinecolor\":\"#2a3f5f\",\"gridcolor\":\"white\",\"linecolor\":\"white\",\"minorgridcolor\":\"white\",\"startlinecolor\":\"#2a3f5f\"},\"baxis\":{\"endlinecolor\":\"#2a3f5f\",\"gridcolor\":\"white\",\"linecolor\":\"white\",\"minorgridcolor\":\"white\",\"startlinecolor\":\"#2a3f5f\"},\"type\":\"carpet\"}],\"table\":[{\"cells\":{\"fill\":{\"color\":\"#EBF0F8\"},\"line\":{\"color\":\"white\"}},\"header\":{\"fill\":{\"color\":\"#C8D4E3\"},\"line\":{\"color\":\"white\"}},\"type\":\"table\"}],\"barpolar\":[{\"marker\":{\"line\":{\"color\":\"#E5ECF6\",\"width\":0.5},\"pattern\":{\"fillmode\":\"overlay\",\"size\":10,\"solidity\":0.2}},\"type\":\"barpolar\"}],\"pie\":[{\"automargin\":true,\"type\":\"pie\"}]},\"layout\":{\"autotypenumbers\":\"strict\",\"colorway\":[\"#636efa\",\"#EF553B\",\"#00cc96\",\"#ab63fa\",\"#FFA15A\",\"#19d3f3\",\"#FF6692\",\"#B6E880\",\"#FF97FF\",\"#FECB52\"],\"font\":{\"color\":\"#2a3f5f\"},\"hovermode\":\"closest\",\"hoverlabel\":{\"align\":\"left\"},\"paper_bgcolor\":\"white\",\"plot_bgcolor\":\"#E5ECF6\",\"polar\":{\"bgcolor\":\"#E5ECF6\",\"angularaxis\":{\"gridcolor\":\"white\",\"linecolor\":\"white\",\"ticks\":\"\"},\"radialaxis\":{\"gridcolor\":\"white\",\"linecolor\":\"white\",\"ticks\":\"\"}},\"ternary\":{\"bgcolor\":\"#E5ECF6\",\"aaxis\":{\"gridcolor\":\"white\",\"linecolor\":\"white\",\"ticks\":\"\"},\"baxis\":{\"gridcolor\":\"white\",\"linecolor\":\"white\",\"ticks\":\"\"},\"caxis\":{\"gridcolor\":\"white\",\"linecolor\":\"white\",\"ticks\":\"\"}},\"coloraxis\":{\"colorbar\":{\"outlinewidth\":0,\"ticks\":\"\"}},\"colorscale\":{\"sequential\":[[0.0,\"#0d0887\"],[0.1111111111111111,\"#46039f\"],[0.2222222222222222,\"#7201a8\"],[0.3333333333333333,\"#9c179e\"],[0.4444444444444444,\"#bd3786\"],[0.5555555555555556,\"#d8576b\"],[0.6666666666666666,\"#ed7953\"],[0.7777777777777778,\"#fb9f3a\"],[0.8888888888888888,\"#fdca26\"],[1.0,\"#f0f921\"]],\"sequentialminus\":[[0.0,\"#0d0887\"],[0.1111111111111111,\"#46039f\"],[0.2222222222222222,\"#7201a8\"],[0.3333333333333333,\"#9c179e\"],[0.4444444444444444,\"#bd3786\"],[0.5555555555555556,\"#d8576b\"],[0.6666666666666666,\"#ed7953\"],[0.7777777777777778,\"#fb9f3a\"],[0.8888888888888888,\"#fdca26\"],[1.0,\"#f0f921\"]],\"diverging\":[[0,\"#8e0152\"],[0.1,\"#c51b7d\"],[0.2,\"#de77ae\"],[0.3,\"#f1b6da\"],[0.4,\"#fde0ef\"],[0.5,\"#f7f7f7\"],[0.6,\"#e6f5d0\"],[0.7,\"#b8e186\"],[0.8,\"#7fbc41\"],[0.9,\"#4d9221\"],[1,\"#276419\"]]},\"xaxis\":{\"gridcolor\":\"white\",\"linecolor\":\"white\",\"ticks\":\"\",\"title\":{\"standoff\":15},\"zerolinecolor\":\"white\",\"automargin\":true,\"zerolinewidth\":2},\"yaxis\":{\"gridcolor\":\"white\",\"linecolor\":\"white\",\"ticks\":\"\",\"title\":{\"standoff\":15},\"zerolinecolor\":\"white\",\"automargin\":true,\"zerolinewidth\":2},\"scene\":{\"xaxis\":{\"backgroundcolor\":\"#E5ECF6\",\"gridcolor\":\"white\",\"linecolor\":\"white\",\"showbackground\":true,\"ticks\":\"\",\"zerolinecolor\":\"white\",\"gridwidth\":2},\"yaxis\":{\"backgroundcolor\":\"#E5ECF6\",\"gridcolor\":\"white\",\"linecolor\":\"white\",\"showbackground\":true,\"ticks\":\"\",\"zerolinecolor\":\"white\",\"gridwidth\":2},\"zaxis\":{\"backgroundcolor\":\"#E5ECF6\",\"gridcolor\":\"white\",\"linecolor\":\"white\",\"showbackground\":true,\"ticks\":\"\",\"zerolinecolor\":\"white\",\"gridwidth\":2}},\"shapedefaults\":{\"line\":{\"color\":\"#2a3f5f\"}},\"annotationdefaults\":{\"arrowcolor\":\"#2a3f5f\",\"arrowhead\":0,\"arrowwidth\":1},\"geo\":{\"bgcolor\":\"white\",\"landcolor\":\"#E5ECF6\",\"subunitcolor\":\"white\",\"showland\":true,\"showlakes\":true,\"lakecolor\":\"white\"},\"title\":{\"x\":0.05},\"mapbox\":{\"style\":\"light\"}}},\"xaxis\":{\"anchor\":\"y\",\"domain\":[0.0,1.0],\"title\":{\"text\":\"Column\"},\"categoryorder\":\"total ascending\"},\"yaxis\":{\"anchor\":\"x\",\"domain\":[0.0,1.0],\"title\":{\"text\":\"Score\"},\"range\":[0,1]},\"legend\":{\"title\":{\"text\":\"Metric\"},\"tracegroupgap\":0},\"title\":{\"text\":\"Data Quality: Column Shapes (Average Score=0.85)\"},\"barmode\":\"relative\",\"margin\":{\"t\":150},\"font\":{\"size\":18},\"plot_bgcolor\":\"#F5F5F8\"},                        {\"responsive\": true}                    ).then(function(){\n",
              "                            \n",
              "var gd = document.getElementById('40c7f6cd-fb51-47fa-b9bf-ff6abe3221ea');\n",
              "var x = new MutationObserver(function (mutations, observer) {{\n",
              "        var display = window.getComputedStyle(gd).display;\n",
              "        if (!display || display === 'none') {{\n",
              "            console.log([gd, 'removed!']);\n",
              "            Plotly.purge(gd);\n",
              "            observer.disconnect();\n",
              "        }}\n",
              "}});\n",
              "\n",
              "// Listen for the removal of the full notebook cells\n",
              "var notebookContainer = gd.closest('#notebook-container');\n",
              "if (notebookContainer) {{\n",
              "    x.observe(notebookContainer, {childList: true});\n",
              "}}\n",
              "\n",
              "// Listen for the clearing of the current output cell\n",
              "var outputEl = gd.closest('.output');\n",
              "if (outputEl) {{\n",
              "    x.observe(outputEl, {childList: true});\n",
              "}}\n",
              "\n",
              "                        })                };                            </script>        </div>\n",
              "</body>\n",
              "</html>"
            ]
          },
          "metadata": {}
        }
      ]
    },
    {
      "cell_type": "code",
      "source": [
        "# fig = quality_report.get_visualization('Column Shapes', table_name='parent_table')\n",
        "# fig.show()"
      ],
      "metadata": {
        "id": "wwKR6uy7C-5y"
      },
      "execution_count": 44,
      "outputs": []
    },
    {
      "cell_type": "code",
      "source": [
        "from sdv.evaluation.multi_table import get_column_plot\n",
        "\n",
        "fig = get_column_plot(\n",
        "    real_data=real_data,\n",
        "    synthetic_data=synthetic_data,\n",
        "    column_name='income_group',\n",
        "    table_name='child_table',\n",
        "    metadata=metadata\n",
        ")\n",
        "\n",
        "fig.show()"
      ],
      "metadata": {
        "colab": {
          "base_uri": "https://localhost:8080/",
          "height": 909
        },
        "id": "j8ZExzQhDLGN",
        "outputId": "8a0bb03a-00d0-417e-a439-d8ecb7a1995e"
      },
      "execution_count": 45,
      "outputs": [
        {
          "output_type": "stream",
          "name": "stderr",
          "text": [
            "<frozen importlib._bootstrap>:914: ImportWarning:\n",
            "\n",
            "APICoreClientInfoImportHook.find_spec() not found; falling back to find_module()\n",
            "\n",
            "<frozen importlib._bootstrap>:914: ImportWarning:\n",
            "\n",
            "_PyDriveImportHook.find_spec() not found; falling back to find_module()\n",
            "\n",
            "<frozen importlib._bootstrap>:914: ImportWarning:\n",
            "\n",
            "_OpenCVImportHook.find_spec() not found; falling back to find_module()\n",
            "\n",
            "<frozen importlib._bootstrap>:914: ImportWarning:\n",
            "\n",
            "_BokehImportHook.find_spec() not found; falling back to find_module()\n",
            "\n",
            "<frozen importlib._bootstrap>:914: ImportWarning:\n",
            "\n",
            "_AltairImportHook.find_spec() not found; falling back to find_module()\n",
            "\n"
          ]
        },
        {
          "output_type": "display_data",
          "data": {
            "text/html": [
              "<html>\n",
              "<head><meta charset=\"utf-8\" /></head>\n",
              "<body>\n",
              "    <div>            <script src=\"https://cdnjs.cloudflare.com/ajax/libs/mathjax/2.7.5/MathJax.js?config=TeX-AMS-MML_SVG\"></script><script type=\"text/javascript\">if (window.MathJax && window.MathJax.Hub && window.MathJax.Hub.Config) {window.MathJax.Hub.Config({SVG: {font: \"STIX-Web\"}});}</script>                <script type=\"text/javascript\">window.PlotlyConfig = {MathJaxConfig: 'local'};</script>\n",
              "        <script charset=\"utf-8\" src=\"https://cdn.plot.ly/plotly-2.24.1.min.js\"></script>                <div id=\"fcc42d66-c65b-4624-b0f8-5627d5514924\" class=\"plotly-graph-div\" style=\"height:525px; width:100%;\"></div>            <script type=\"text/javascript\">                                    window.PLOTLYENV=window.PLOTLYENV || {};                                    if (document.getElementById(\"fcc42d66-c65b-4624-b0f8-5627d5514924\")) {                    Plotly.newPlot(                        \"fcc42d66-c65b-4624-b0f8-5627d5514924\",                        [{\"legendgroup\":\"Real\",\"marker\":{\"color\":\"#000036\"},\"mode\":\"lines\",\"name\":\"Real\",\"showlegend\":true,\"x\":[2.0,2.006,2.012,2.018,2.024,2.03,2.036,2.042,2.048,2.054,2.06,2.066,2.072,2.078,2.084,2.09,2.096,2.102,2.108,2.114,2.12,2.126,2.132,2.138,2.144,2.15,2.156,2.162,2.168,2.174,2.18,2.186,2.192,2.198,2.204,2.21,2.216,2.222,2.228,2.234,2.24,2.246,2.252,2.258,2.2640000000000002,2.27,2.276,2.282,2.288,2.294,2.3,2.306,2.312,2.318,2.324,2.33,2.336,2.342,2.348,2.354,2.36,2.366,2.372,2.378,2.384,2.39,2.396,2.402,2.408,2.414,2.42,2.426,2.432,2.438,2.444,2.45,2.456,2.462,2.468,2.474,2.48,2.4859999999999998,2.492,2.498,2.504,2.51,2.516,2.5220000000000002,2.528,2.534,2.54,2.5460000000000003,2.552,2.558,2.564,2.57,2.576,2.582,2.588,2.594,2.6,2.606,2.612,2.618,2.624,2.63,2.636,2.642,2.648,2.654,2.66,2.666,2.672,2.678,2.684,2.69,2.6959999999999997,2.702,2.708,2.714,2.7199999999999998,2.726,2.732,2.738,2.7439999999999998,2.75,2.7560000000000002,2.762,2.768,2.774,2.7800000000000002,2.786,2.792,2.798,2.8040000000000003,2.81,2.816,2.822,2.828,2.834,2.84,2.846,2.852,2.858,2.864,2.87,2.876,2.882,2.888,2.894,2.9,2.906,2.912,2.918,2.924,2.93,2.936,2.942,2.948,2.9539999999999997,2.96,2.966,2.972,2.9779999999999998,2.984,2.99,2.996,3.002,3.008,3.0140000000000002,3.02,3.026,3.032,3.0380000000000003,3.044,3.05,3.056,3.0620000000000003,3.068,3.074,3.08,3.0860000000000003,3.092,3.098,3.104,3.1100000000000003,3.116,3.122,3.128,3.134,3.1399999999999997,3.146,3.152,3.158,3.1639999999999997,3.17,3.176,3.182,3.1879999999999997,3.194,3.2,3.206,3.2119999999999997,3.218,3.224,3.23,3.2359999999999998,3.242,3.248,3.254,3.26,3.266,3.2720000000000002,3.278,3.284,3.29,3.2960000000000003,3.302,3.308,3.314,3.3200000000000003,3.326,3.332,3.338,3.3440000000000003,3.35,3.356,3.362,3.3680000000000003,3.374,3.38,3.386,3.392,3.3979999999999997,3.404,3.41,3.416,3.4219999999999997,3.428,3.434,3.44,3.4459999999999997,3.452,3.458,3.464,3.4699999999999998,3.476,3.482,3.488,3.4939999999999998,3.5,3.5060000000000002,3.512,3.518,3.524,3.5300000000000002,3.536,3.542,3.548,3.5540000000000003,3.56,3.566,3.572,3.5780000000000003,3.584,3.59,3.596,3.6020000000000003,3.608,3.614,3.62,3.626,3.6319999999999997,3.638,3.644,3.65,3.6559999999999997,3.662,3.668,3.674,3.6799999999999997,3.686,3.692,3.698,3.7039999999999997,3.71,3.716,3.722,3.7279999999999998,3.734,3.74,3.746,3.752,3.758,3.7640000000000002,3.77,3.776,3.782,3.7880000000000003,3.794,3.8,3.806,3.8120000000000003,3.818,3.824,3.83,3.8360000000000003,3.842,3.848,3.854,3.8600000000000003,3.866,3.872,3.878,3.884,3.8899999999999997,3.896,3.902,3.908,3.9139999999999997,3.92,3.926,3.932,3.9379999999999997,3.944,3.95,3.956,3.9619999999999997,3.968,3.974,3.98,3.9859999999999998,3.992,3.998,4.004,4.01,4.016,4.022,4.0280000000000005,4.034,4.04,4.045999999999999,4.052,4.058,4.064,4.07,4.0760000000000005,4.082,4.088,4.093999999999999,4.1,4.106,4.112,4.118,4.1240000000000006,4.13,4.136,4.1419999999999995,4.148,4.154,4.16,4.166,4.172000000000001,4.178,4.184,4.1899999999999995,4.196,4.202,4.208,4.214,4.220000000000001,4.226,4.232,4.2379999999999995,4.244,4.25,4.256,4.2620000000000005,4.268,4.274,4.279999999999999,4.286,4.292,4.298,4.304,4.3100000000000005,4.316,4.322,4.327999999999999,4.334,4.34,4.346,4.352,4.3580000000000005,4.364,4.37,4.3759999999999994,4.382,4.388,4.394,4.4,4.406000000000001,4.412,4.418,4.4239999999999995,4.43,4.436,4.442,4.448,4.454000000000001,4.46,4.466,4.4719999999999995,4.478,4.484,4.49,4.496,4.502,4.508,4.513999999999999,4.52,4.526,4.532,4.538,4.5440000000000005,4.55,4.556,4.561999999999999,4.568,4.574,4.58,4.586,4.5920000000000005,4.598,4.604,4.609999999999999,4.616,4.622,4.628,4.634,4.640000000000001,4.646,4.652,4.6579999999999995,4.664,4.67,4.676,4.682,4.688000000000001,4.694,4.7,4.7059999999999995,4.712,4.718,4.724,4.73,4.736000000000001,4.742,4.748,4.754,4.76,4.766,4.772,4.7780000000000005,4.784,4.79,4.795999999999999,4.802,4.808,4.814,4.82,4.8260000000000005,4.832,4.838,4.843999999999999,4.85,4.856,4.862,4.868,4.8740000000000006,4.88,4.886,4.8919999999999995,4.898,4.904,4.91,4.916,4.922000000000001,4.928,4.934,4.9399999999999995,4.946,4.952,4.958,4.964,4.970000000000001,4.976,4.982,4.9879999999999995,4.994],\"xaxis\":\"x\",\"y\":[0.18460412517819785,0.1848669248790068,0.18512615447663638,0.1853818299903293,0.18563396805467697,0.18588258591600293,0.186127701428589,0.18636933305074602,0.18660749984072916,0.18684222145249849,0.18707351813132586,0.18730141070924855,0.18752592060037093,0.18774706979601438,0.1879648808597172,0.18817937692208467,0.1883905816754907,0.18859851936863256,0.18880321480093848,0.18900469331683104,0.1892029807998456,0.1893981036666071,0.18959008886066459,0.1897789638461862,0.18996475660151502,0.19014749561258784,0.19032720986621832,0.19050392884324518,0.19067768251154826,0.19084850131893286,0.19101641618588489,0.19118145849819781,0.1913436600994734,0.19150305328349834,0.19165967078649784,0.19181354577926835,0.19196471185919167,0.1921132030421315,0.19225905375421537,0.1924022988235031,0.19254297347154398,0.19268111330482526,0.19281675430611347,0.19294993282569067,0.19308068557248825,0.1932090496051201,0.19333506232281727,0.19345876145626703,0.1935801850583576,0.1936993714948321,0.19381635943485248,0.19393118784147756,0.1940438959620566,0.19415452331854038,0.19426310969771354,0.1943696951413498,0.19447431993629236,0.19457702460446308,0.1946778498928018,0.19477683676313917,0.19487402638200535,0.19496946011037702,0.19506317949336593,0.19515522624985096,0.1952456422620568,0.19533446956508205,0.19542175033637885,0.19550752688518805,0.19559184164193089,0.19567473714756173,0.19575625604288338,0.19583644105782863,0.19591533500071032,0.19599298074744284,0.19606942123073834,0.19614469942927973,0.1962188583568744,0.1962919410515902,0.19636399056487774,0.19643504995068145,0.19650516225454218,0.196574370502694,0.1966427176911591,0.19671024677484278,0.19677700065663126,0.19684302217649638,0.19690835410060895,0.19697303911046404,0.1970371197920216,0.1971006386248643,0.1971636379713766,0.19722616006594706,0.1972882470041976,0.1973499407322413,0.19741128303597363,0.19747231553039796,0.19753307964898922,0.1975936166330989,0.19765396752140307,0.1977141731393976,0.19777427408894213,0.19783431073785684,0.19789432320957367,0.1979543513728456,0.1980144348315162,0.19807461291435274,0.1981349246649451,0.19819540883167333,0.1982561038577466,0.19831704787131646,0.1983782786756667,0.19843983373948207,0.19850175018719995,0.19856406478944552,0.19862681395355475,0.19869003371418648,0.19875375972402726,0.19881802724459013,0.19888287113711092,0.1989483258535439,0.19901442542765946,0.19908120346624558,0.19914869314041678,0.19921692717703102,0.1992859378502184,0.19935575697302318,0.19942641588916135,0.19949794546489585,0.19957037608103217,0.19964373762503573,0.19971805948327334,0.19979337053338098,0.19986969913675973,0.1999470731312018,0.2000255198236486,0.20010506598308256,0.2001857378335553,0.20026756104735258,0.20035056073829915,0.20043476145520459,0.20052018717545178,0.20060686129872962,0.20069480664091227,0.20078404542808512,0.2008745992907205,0.2009664892580038,0.20105973575231095,0.2011543585838401,0.201250376945397,0.20134780940733735,0.20144667391266538,0.20154698777229138,0.20164876766044856,0.2017520296102705,0.20185678900953047,0.20196306059654323,0.20207085845623052,0.2021801960163514,0.20229108604389756,0.20240354064165525,0.20251757124493408,0.20263318861846358,0.20275040285345822,0.20286922336485141,0.20298965888869924,0.20311171747975412,0.20323540650920913,0.2033607326626138,0.20348770193796067,0.20361631964394386,0.20374659039838994,0.20387851812686086,0.20401210606142894,0.2041473567396252,0.2042842720035596,0.20442285299921453,0.20456310017591053,0.20470501328594498,0.2048485913844029,0.20499383282914052,0.2051407352809406,0.20528929570383964,0.2054395103656268,0.205591374838514,0.20574488399997656,0.2059000320337644,0.20605681243108284,0.20621521799194306,0.206375240826681,0.20653687235764384,0.20670010332104494,0.2068649237689843,0.20703132307163546,0.20719928991959713,0.20736881232640939,0.2075398776312325,0.20771247250168828,0.20788658293686302,0.20806219427047007,0.20823929117417198,0.20841785766106047,0.20859787708929303,0.2087793321658855,0.20896220495065876,0.20914647686033846,0.2093321286728064,0.20951914053150245,0.20970749194997515,0.20989716181657994,0.2100881283993231,0.2102803693508503,0.21047386171357813,0.21066858192496637,0.21086450582293037,0.21106160865139123,0.21125986506596195,0.2114592491397683,0.21165973436940233,0.21186129368100665,0.21206389943648793,0.2122675234398572,0.21247213694369593,0.21267771065574492,0.21288421474561492,0.21309161885161604,0.21329989208770556,0.21350900305054965,0.2137189198266996,0.21392960999987815,0.2141410406583752,0.21435317840255086,0.2145659893524421,0.21477943915547265,0.21499349299426312,0.21520811559453856,0.2154232712331324,0.21563892374608346,0.21585503653682442,0.2160715725844586,0.2162884944521242,0.2165057642954415,0.21672334387104292,0.21694119454518193,0.21715927730241902,0.21737755275438242,0.21759598114860101,0.21781452237740673,0.21803313598690474,0.2182517811860078,0.21847041685553395,0.21868900155736296,0.21890749354365116,0.21912585076610075,0.2193440308852817,0.21956199128000348,0.21977968905673434,0.21999708105906557,0.2202141238772179,0.22043077385758808,0.22064698711233288,0.22086271952898773,0.22107792678011762,0.2212925643329985,0.2215065874593251,0.22171995124494426,0.22193261059961022,0.22214452026675985,0.22235563483330484,0.22256590873943938,0.22277529628845943,0.22298375165659223,0.22319122890283294,0.22339768197878634,0.22360306473851116,0.22380733094836353,0.224010434296839,0.22421232840440927,0.22441296683335127,0.2246123030975671,0.22481029067239164,0.22500688300438548,0.22520203352111157,0.225395695640892,0.22558782278254402,0.22577836837509158,0.22596728586745116,0.2261545287380892,0.22634005050464862,0.22652380473354267,0.2267057450495139,0.22688582514515498,0.22706399879039116,0.22724021984192025,0.22741444225260887,0.22758662008084352,0.2277567074998325,0.22792465880685897,0.228090428432481,0.2282539709496778,0.22841524108293976,0.22857419371730092,0.22873078390731033,0.22888496688594237,0.22903669807344276,0.22918593308610916,0.22933262774500385,0.2294767380845972,0.22961822036134014,0.2297570310621635,0.22989312691290276,0.23002646488664674,0.2301570022120078,0.23028469638131288,0.2304095051587133,0.2305313865882112,0.2306502990016025,0.23076620102633313,0.2308790515932687,0.23098880994437493,0.23109543564030782,0.2311988885679127,0.23129912894763005,0.2313961173408067,0.2314898146569125,0.23158018216065912,0.23166718147902143,0.23175077460815985,0.23183092392024168,0.23190759217016182,0.23198074250215997,0.23205033845633538,0.23211634397505587,0.23217872340926216,0.23223744152466502,0.23229246350783525,0.23234375497218535,0.23239128196384207,0.23243501096740832,0.2324749089116156,0.23251094317486348,0.23254308159064782,0.23257129245287578,0.23259554452106734,0.2326158070254426,0.23263204967189424,0.23264424264684536,0.23265235662199046,0.2326563627589216,0.2326562327136364,0.23265193864093037,0.23264345319867058,0.23263074955195256,0.2326138013771385,0.23259258286577744,0.2325670687284065,0.23253723419823383,0.23250305503470242,0.2324645075269344,0.23242156849705695,0.23237421530340796,0.23232242584362356,0.232266178557605,0.2322054524303674,0.2321402269947682,0.23207048233411742,0.2319961990846683,0.2319173584379886,0.23183394214321446,0.23174593250918407,0.23165331240645434,0.23155606526919886,0.23145417509698807,0.23134762645645207,0.2312364044828267,0.2311204948813821,0.23099988392873547,0.2308745584740477,0.2307445059401047,0.23060971432428357,0.23047017219940408,0.23032586871446686,0.23017679359527715,0.2300229371449569,0.22986429024434352,0.22970084435227803,0.22953259150578126,0.22935952432012086,0.22918163598876737,0.22899892028324315,0.2288113715528613,0.22861898472435882,0.22842175530142228,0.22821967936410792,0.2280127535681567,0.22780097514420572,0.22758434189689575,0.22736285220387664,0.22713650501471122,0.22690529984967925,0.2266692367984805,0.22642831651884016,0.22618254023501655,0.22593190973621122,0.22567642737488441,0.2254160960649751,0.22515091928002795,0.22488090105122677,0.22460604596533723,0.22432635916255922,0.2240418463342884,0.22375251372079125,0.22345836810879158,0.22315941682897183,0.22285566775338866,0.22254712929280535,0.22223381039394124,0.22191572053663983,0.22159286973095632,0.2212652685141662,0.2209329279476961,0.22059585961397726,0.22025407561322427,0.21990758856013887,0.2195564115805408,0.21920055830792673,0.21884004287995917,0.21847487993488457,0.21810508460788486,0.2177306725273607,0.2173516598111504,0.21696806306268285,0.21657989936706878,0.2161871862871294,0.21578994185936423,0.21538818458986003,0.21498193345014144,0.21457120787296502,0.2141560277480572,0.2137364134177986,0.21331238567285493,0.21288396574775625,0.2124511753164259,0.21201403648765993,0.21157257180055955,0.21112680421991503,0.2106767571315465,0.21022245433759928,0.20976392005179637,0.2093011788946499,0.2088342558886318,0.20836317645330582,0.2078879664004214,0.20740865192897073,0.20692525962021152,0.20643781643265405,0.2059463496970168,0.20545088711115006,0.2049514567349284,0.20444808698511452,0.2039408066301957,0.20342964478519224,0.2029146309064409,0.20239579478635428,0.20187316654815665,0.2013467766405972,0.20081665583264324,0.20028283520815376,0.19974534616053347,0.19920422038737032,0.19865948988505627,0.19811118694339352,0.1975593441401856,0.19700399433581667,0.19644517066781816,0.19588290654542573,0.19531723564412495,0.1947481919001901,0.1941758095052148,0.19360012290063533,0.19302116677225017,0.1924389760447337,0.19185358587614756,0.19126503165244918,0.19067334898199856,0.19007857369006614,0.18948074181333938,0.18887988959443258,0.188276053476398,0.18766927009724177,0.18705957628444267,0.1864470090494777,0.1858316055823533,0.1852134032461436,0.18459243957153695,0.1839687522513915,0.18334237913530052,0.18271335822416798,0.18208172766479616,0.18144752574448594,0.18081079088564866],\"yaxis\":\"y\",\"type\":\"scatter\",\"fill\":\"tozeroy\",\"hovertemplate\":\"\\u003cb\\u003eReal\\u003c\\u002fb\\u003e\\u003cbr\\u003eValue: %{x}\\u003cbr\\u003eFrequency: %{y}\\u003cextra\\u003e\\u003c\\u002fextra\\u003e\"},{\"legendgroup\":\"Synthetic\",\"marker\":{\"color\":\"#01E0C9\"},\"mode\":\"lines\",\"name\":\"Synthetic\",\"showlegend\":true,\"x\":[2.0,2.006,2.012,2.018,2.024,2.03,2.036,2.042,2.048,2.054,2.06,2.066,2.072,2.078,2.084,2.09,2.096,2.102,2.108,2.114,2.12,2.126,2.132,2.138,2.144,2.15,2.156,2.162,2.168,2.174,2.18,2.186,2.192,2.198,2.204,2.21,2.216,2.222,2.228,2.234,2.24,2.246,2.252,2.258,2.2640000000000002,2.27,2.276,2.282,2.288,2.294,2.3,2.306,2.312,2.318,2.324,2.33,2.336,2.342,2.348,2.354,2.36,2.366,2.372,2.378,2.384,2.39,2.396,2.402,2.408,2.414,2.42,2.426,2.432,2.438,2.444,2.45,2.456,2.462,2.468,2.474,2.48,2.4859999999999998,2.492,2.498,2.504,2.51,2.516,2.5220000000000002,2.528,2.534,2.54,2.5460000000000003,2.552,2.558,2.564,2.57,2.576,2.582,2.588,2.594,2.6,2.606,2.612,2.618,2.624,2.63,2.636,2.642,2.648,2.654,2.66,2.666,2.672,2.678,2.684,2.69,2.6959999999999997,2.702,2.708,2.714,2.7199999999999998,2.726,2.732,2.738,2.7439999999999998,2.75,2.7560000000000002,2.762,2.768,2.774,2.7800000000000002,2.786,2.792,2.798,2.8040000000000003,2.81,2.816,2.822,2.828,2.834,2.84,2.846,2.852,2.858,2.864,2.87,2.876,2.882,2.888,2.894,2.9,2.906,2.912,2.918,2.924,2.93,2.936,2.942,2.948,2.9539999999999997,2.96,2.966,2.972,2.9779999999999998,2.984,2.99,2.996,3.002,3.008,3.0140000000000002,3.02,3.026,3.032,3.0380000000000003,3.044,3.05,3.056,3.0620000000000003,3.068,3.074,3.08,3.0860000000000003,3.092,3.098,3.104,3.1100000000000003,3.116,3.122,3.128,3.134,3.1399999999999997,3.146,3.152,3.158,3.1639999999999997,3.17,3.176,3.182,3.1879999999999997,3.194,3.2,3.206,3.2119999999999997,3.218,3.224,3.23,3.2359999999999998,3.242,3.248,3.254,3.26,3.266,3.2720000000000002,3.278,3.284,3.29,3.2960000000000003,3.302,3.308,3.314,3.3200000000000003,3.326,3.332,3.338,3.3440000000000003,3.35,3.356,3.362,3.3680000000000003,3.374,3.38,3.386,3.392,3.3979999999999997,3.404,3.41,3.416,3.4219999999999997,3.428,3.434,3.44,3.4459999999999997,3.452,3.458,3.464,3.4699999999999998,3.476,3.482,3.488,3.4939999999999998,3.5,3.5060000000000002,3.512,3.518,3.524,3.5300000000000002,3.536,3.542,3.548,3.5540000000000003,3.56,3.566,3.572,3.5780000000000003,3.584,3.59,3.596,3.6020000000000003,3.608,3.614,3.62,3.626,3.6319999999999997,3.638,3.644,3.65,3.6559999999999997,3.662,3.668,3.674,3.6799999999999997,3.686,3.692,3.698,3.7039999999999997,3.71,3.716,3.722,3.7279999999999998,3.734,3.74,3.746,3.752,3.758,3.7640000000000002,3.77,3.776,3.782,3.7880000000000003,3.794,3.8,3.806,3.8120000000000003,3.818,3.824,3.83,3.8360000000000003,3.842,3.848,3.854,3.8600000000000003,3.866,3.872,3.878,3.884,3.8899999999999997,3.896,3.902,3.908,3.9139999999999997,3.92,3.926,3.932,3.9379999999999997,3.944,3.95,3.956,3.9619999999999997,3.968,3.974,3.98,3.9859999999999998,3.992,3.998,4.004,4.01,4.016,4.022,4.0280000000000005,4.034,4.04,4.045999999999999,4.052,4.058,4.064,4.07,4.0760000000000005,4.082,4.088,4.093999999999999,4.1,4.106,4.112,4.118,4.1240000000000006,4.13,4.136,4.1419999999999995,4.148,4.154,4.16,4.166,4.172000000000001,4.178,4.184,4.1899999999999995,4.196,4.202,4.208,4.214,4.220000000000001,4.226,4.232,4.2379999999999995,4.244,4.25,4.256,4.2620000000000005,4.268,4.274,4.279999999999999,4.286,4.292,4.298,4.304,4.3100000000000005,4.316,4.322,4.327999999999999,4.334,4.34,4.346,4.352,4.3580000000000005,4.364,4.37,4.3759999999999994,4.382,4.388,4.394,4.4,4.406000000000001,4.412,4.418,4.4239999999999995,4.43,4.436,4.442,4.448,4.454000000000001,4.46,4.466,4.4719999999999995,4.478,4.484,4.49,4.496,4.502,4.508,4.513999999999999,4.52,4.526,4.532,4.538,4.5440000000000005,4.55,4.556,4.561999999999999,4.568,4.574,4.58,4.586,4.5920000000000005,4.598,4.604,4.609999999999999,4.616,4.622,4.628,4.634,4.640000000000001,4.646,4.652,4.6579999999999995,4.664,4.67,4.676,4.682,4.688000000000001,4.694,4.7,4.7059999999999995,4.712,4.718,4.724,4.73,4.736000000000001,4.742,4.748,4.754,4.76,4.766,4.772,4.7780000000000005,4.784,4.79,4.795999999999999,4.802,4.808,4.814,4.82,4.8260000000000005,4.832,4.838,4.843999999999999,4.85,4.856,4.862,4.868,4.8740000000000006,4.88,4.886,4.8919999999999995,4.898,4.904,4.91,4.916,4.922000000000001,4.928,4.934,4.9399999999999995,4.946,4.952,4.958,4.964,4.970000000000001,4.976,4.982,4.9879999999999995,4.994],\"xaxis\":\"x\",\"y\":[0.22543099845703637,0.225795734763037,0.226153422118811,0.22650403970574648,0.22684756756353708,0.22718398659353412,0.22751327856194906,0.2278354261029057,0.22815041272134218,0.2284582227957629,0.22875884158083903,0.22905225520985933,0.2293384506970294,0.22961741593962048,0.22988913971996786,0.23015361170731752,0.23041082245952382,0.23066076342459474,0.23090342694208857,0.23113880624435929,0.23136689545765263,0.23158768960305232,0.23180118459727694,0.2320073772533281,0.23220626528098948,0.23239784728717827,0.23258212277614837,0.23275909214954638,0.23292875670632096,0.23309111864248577,0.23324618105073672,0.23339394791992385,0.23353442413437947,0.23366761547310136,0.23379352860879357,0.23391217110676482,0.23402355142368428,0.2341276789061975,0.23422456378940143,0.2343142171951801,0.2343966511304023,0.23447187848498077,0.23453991302979535,0.23460076941447955,0.2346544631650729,0.23470101068153873,0.2347404292351491,0.2347727369657377,0.23479795287882155,0.23481609684259325,0.23482718958478344,0.2348312526893959,0.2348283085933163,0.23481838058279408,0.23480149278980067,0.23477767018826412,0.23474693859018123,0.23470932464160846,0.23466485581853355,0.23461356042262752,0.2345554675768794,0.23449060722111498,0.23441901010739988,0.23434070779532898,0.23425573264720323,0.23416411782309482,0.23406589727580235,0.23396110574569728,0.23384977875546212,0.2337319526047232,0.23360766436457747,0.23347695187201614,0.23333985372424582,0.2331964092729078,0.2330466586181984,0.23289064260289,0.23272840280625548,0.2325599815378957,0.23238542183147348,0.23220476743835328,0.23201806282114965,0.231825353147184,0.23162668428185307,0.2314221027819082,0.23121165588864867,0.23099539152102877,0.23077335826868148,0.2305456053848584,0.2303121827792886,0.23007314101095727,0.22982853128080438,0.2295784054243467,0.22932281590422293,0.22906181580266305,0.22879545881388436,0.22852379923641497,0.22824689196534476,0.22796479248450718,0.22767755685859176,0.2273852417251885,0.227087904286766,0.22678560230258438,0.22647839408054374,0.22616633846896989,0.22584949484833805,0.22552792312293646,0.22520168371246993,0.2248708375436059,0.22453544604146214,0.22419557112104002,0.22385127517860176,0.22350262108299446,0.22314967216692094,0.22279249221815997,0.22243114547073523,0.22206569659603512,0.2216962106938843,0.2213227532835681,0.22094539029481058,0.22056418805870714,0.22017921329861337,0.21979053312099056,0.2193982150062094,0.21900232679931164,0.21860293670073278,0.21820011325698435,0.21779392535129924,0.21738444219423833,0.2169717333142622,0.21655586854826597,0.21613691803208135,0.21571495219094333,0.21529004172992555,0.21486225762434308,0.21443167111012534,0.2139983536741574,0.2135623770445938,0.21312381318114298,0.21268273426532497,0.2122392126907022,0.2117933210530845,0.2113451321407094,0.2108947189243985,0.21044215454769022,0.20998751231695034,0.20953086569146112,0.20907228827348914,0.20861185379833344,0.20814963612435453,0.2076857092229847,0.2072201471687209,0.20675302412910046,0.20628441435466127,0.20581439216888597,0.20534303195813258,0.20487040816154975,0.20439659526098103,0.20392166777085524,0.20344570022806657,0.20296876718184317,0.202490943183606,0.20201230277681928,0.20153292048683144,0.20105287081070908,0.20057222820706408,0.2000910670858745,0.19960946179830077,0.19912748662649568,0.19864521577341313,0.19816272335261176,0.1976800833780579,0.19719736975392627,0.19671465626440035,0.1962320165634737,0.19574952416475108,0.19526725243125256,0.19478527456521985,0.19430366359792614,0.19382249237949076,0.19334183356869844,0.1928617596228252,0.19238234278747077,0.1919036550863994,0.1914257683113889,0.19094875401208927,0.1904726834858923,0.18999762776781223,0.1895236576203788,0.18905084352354362,0.1885792556646012,0.18810896392812443,0.1876400378859166,0.18717254678698092,0.18670655954750778,0.1862421447408811,0.1857793705877054,0.18531830494585358,0.1848590153005375,0.18440156875440122,0.18394603201763962,0.18349247139814168,0.18304095279166105,0.18259154167201402,0.18214430308130677,0.1816993016201924,0.1812566014381591,0.1808162662238515,0.18037835919542483,0.1799429430909344,0.17951008015876116,0.1790798321480746,0.17865226029933437,0.17822742533483166,0.17780538744927193,0.1773862063004002,0.1769699409996702,0.176556650102959,0.17614639160132775,0.17573922291183092,0.17533520086837465,0.1749343817126261,0.17453682108497504,0.17414257401554892,0.17375169491528344,0.17336423756704966,0.1729802551168392,0.172599800065009,0.1722229242575878,0.1718496788776448,0.17148011443672267,0.171114280766337,0.17075222700954246,0.17039400161256862,0.17003965231652618,0.1696892261491854,0.16934276941682896,0.16900032769617995,0.16866194582640723,0.16832766790120993,0.16799753726098268,0.16767159648506275,0.16734988738406173,0.16703245099228278,0.1667193275602253,0.16641055654717937,0.1661061766139104,0.1658062256154374,0.16551074059390528,0.1652197577715537,0.16493331254378396,0.1646514394723257,0.16437417227850554,0.16410154383661918,0.16383358616740853,0.16357033043164615,0.16331180692382882,0.16305804506598143,0.16280907340157377,0.16256491958955147,0.1623256103984834,0.1620911717008267,0.16186162846731206,0.16163700476145038,0.16141732373416276,0.16120260761853633,0.16099287772470658,0.16078815443486855,0.1605884571984193,0.1603938045272323,0.16020421399106594,0.1600197022131089,0.15984028486566224,0.15966597666596183,0.15949679137214157,0.15933274177934004,0.1591738397159517,0.15902009604002432,0.15887152063580498,0.15872812241043596,0.1585899092908014,0.15845688822052806,0.15832906515714015,0.15820644506937115,0.15808903193463303,0.15797682873664548,0.15786983746322628,0.15776805910424396,0.1576714936497351,0.15758014008818685,0.1574939964049871,0.15741305958104274,0.15733732559156807,0.15726678940504474,0.1572014449823542,0.15714128527608429,0.1570863022300112,0.15703648677875798,0.15699182884763113,0.15695231735263582,0.15691794020067185,0.15688868428991065,0.15686453551035495,0.1568454787445818,0.1568314978686703,0.15682257575331504,0.1568186942651257,0.1568198342681145,0.1568259756253717,0.15683709720093025,0.15685317686182076,0.15687419148031664,0.1569001169363711,0.1569309281202459,0.15696659893533324,0.15700710230117051,0.15705241015664886,0.15710249346341654,0.15715732220947656,0.15721686541297947,0.1572810911262119,0.15734996643978066,0.15742345748699285,0.15750152944843213,0.15758414655673164,0.15767127210154303,0.15776286843470183,0.15785889697558986,0.15795931821669335,0.15806409172935804,0.15817317616973947,0.15828652928494988,0.15840410791940066,0.1585258680213394,0.15865176464958242,0.1587817519804414,0.15891578331484413,0.15905381108564798,0.15919578686514688,0.15934166137276962,0.15949138448296982,0.15964490523330616,0.15980217183271234,0.15996313166995582,0.16012773132228392,0.16029591656425726,0.1604676323767679,0.16064282295624305,0.16082143172403118,0.1610034013359704,0.16118867369213752,0.16137718994677647,0.16156889051840453,0.1617637151000944,0.16196160266993206,0.16216249150164666,0.16236631917541278,0.1625730225888219,0.16278253796802175,0.1629948008790223,0.1632097462391653,0.16342730832875615,0.1636474208028563,0.16387001670323337,0.1640950284704671,0.16432238795620963,0.16455202643559616,0.16478387461980643,0.16501786266877108,0.16525392020402407,0.1654919763216958,0.1657319596056462,0.16597379814073465,0.1662174195262237,0.16646275088931445,0.16670971889881075,0.16695824977890908,0.16720826932311159,0.16745970290825962,0.16771247550868398,0.16796651171047045,0.16822173572583457,0.1684780714076073,0.16873544226382306,0.1689937714724117,0.1692529818959878,0.16951299609673567,0.1697737363513868,0.17003512466628568,0.17029708279254097,0.17055953224125872,0.1708223942988539,0.1710855900424371,0.1713490403552723,0.17161266594230304,0.171876387345742,0.17214012496072228,0.17240379905100436,0.17266732976473742,0.17293063715026916,0.17319364117200223,0.17345626172629197,0.17371841865738247,0.17398003177337684,0.1742410208622384,0.17450130570781702,0.17476080610590009,0.1750194418802802,0.17527713289883884,0.17553379908964017,0.17578936045703192,0.176043737097749,0.1762968492170158,0.1765486171446429,0.17679896135111542,0.1770478024636668,0.17729506128233596,0.1775406587960029,0.1777845161983984,0.17802655490408487,0.1782666965644019,0.1785048630833763,0.17874097663358837,0.1789749596719931,0.17920673495569123,0.1794362255576464,0.1796633548823436,0.17988804668138633,0.18011022506902644,0.18032981453762462,0.1805467399730359,0.18076092666991747,0.18097230034695336,0.18118078716199332,0.1813863137271015,0.1815888071235105,0.18178819491647752,0.18198440517003822,0.18217736646165472,0.18236700789675372,0.18255325912315087,0.182736050345358,0.18291531233876826,0.18309097646371697,0.18326297467941377,0.18343123955774124,0.18359570429691888,0.18375630273502602,0.18391296936338225,0.1840656393397807,0.1842142485015706,0.18435873337858652,0.18449903120591996,0.18463507993653014,0.18476681825369096,0.18489418558327048,0.18501712210584023,0.18513556876860957,0.1852494672971845,0.18535876020714565,0.18546339081544247,0.185563303251603,0.18565844246875274,0.18574875425444276,0.1858341852412821,0.1859146829173731,0.18599019563654634,0.18606067262839204,0.1861260640080863,0.18618632078600889,0.18624139487715044,0.18629123911030637,0.18633580723705537,0.1863750539405202,0.18640893484390833,0.1864374065188301,0.186460426493393,0.18647795326006947,0.18648994628333593,0.18649636600708214,0.18649717386178832,0.18649233227146805,0.18648180466037587,0.18646555545947804,0.18644355011268407,0.18641575508283834,0.1863821378574698,0.18634266695429924,0.18629731192650184,0.18624604336772477,0.1861888329168578,0.18612565326255684,0.1860564781475187,0.18598128237250636,0.18590004180012462,0.18581273335834428,0.1857193350437744,0.1856198259246836,0.1855141861437674,0.18540239692066326,0.18528444055421184],\"yaxis\":\"y\",\"type\":\"scatter\",\"fill\":\"tozeroy\",\"hovertemplate\":\"\\u003cb\\u003eSynthetic\\u003c\\u002fb\\u003e\\u003cbr\\u003eValue: %{x}\\u003cbr\\u003eFrequency: %{y}\\u003cextra\\u003e\\u003c\\u002fextra\\u003e\"}],                        {\"barmode\":\"overlay\",\"hovermode\":\"closest\",\"legend\":{\"traceorder\":\"reversed\"},\"xaxis\":{\"anchor\":\"y2\",\"domain\":[0.0,1.0],\"zeroline\":false,\"title\":{\"text\":\"Value\"}},\"yaxis\":{\"anchor\":\"free\",\"domain\":[0.0,1],\"position\":0.0,\"title\":{\"text\":\"Frequency\"}},\"template\":{\"data\":{\"histogram2dcontour\":[{\"type\":\"histogram2dcontour\",\"colorbar\":{\"outlinewidth\":0,\"ticks\":\"\"},\"colorscale\":[[0.0,\"#0d0887\"],[0.1111111111111111,\"#46039f\"],[0.2222222222222222,\"#7201a8\"],[0.3333333333333333,\"#9c179e\"],[0.4444444444444444,\"#bd3786\"],[0.5555555555555556,\"#d8576b\"],[0.6666666666666666,\"#ed7953\"],[0.7777777777777778,\"#fb9f3a\"],[0.8888888888888888,\"#fdca26\"],[1.0,\"#f0f921\"]]}],\"choropleth\":[{\"type\":\"choropleth\",\"colorbar\":{\"outlinewidth\":0,\"ticks\":\"\"}}],\"histogram2d\":[{\"type\":\"histogram2d\",\"colorbar\":{\"outlinewidth\":0,\"ticks\":\"\"},\"colorscale\":[[0.0,\"#0d0887\"],[0.1111111111111111,\"#46039f\"],[0.2222222222222222,\"#7201a8\"],[0.3333333333333333,\"#9c179e\"],[0.4444444444444444,\"#bd3786\"],[0.5555555555555556,\"#d8576b\"],[0.6666666666666666,\"#ed7953\"],[0.7777777777777778,\"#fb9f3a\"],[0.8888888888888888,\"#fdca26\"],[1.0,\"#f0f921\"]]}],\"heatmap\":[{\"type\":\"heatmap\",\"colorbar\":{\"outlinewidth\":0,\"ticks\":\"\"},\"colorscale\":[[0.0,\"#0d0887\"],[0.1111111111111111,\"#46039f\"],[0.2222222222222222,\"#7201a8\"],[0.3333333333333333,\"#9c179e\"],[0.4444444444444444,\"#bd3786\"],[0.5555555555555556,\"#d8576b\"],[0.6666666666666666,\"#ed7953\"],[0.7777777777777778,\"#fb9f3a\"],[0.8888888888888888,\"#fdca26\"],[1.0,\"#f0f921\"]]}],\"heatmapgl\":[{\"type\":\"heatmapgl\",\"colorbar\":{\"outlinewidth\":0,\"ticks\":\"\"},\"colorscale\":[[0.0,\"#0d0887\"],[0.1111111111111111,\"#46039f\"],[0.2222222222222222,\"#7201a8\"],[0.3333333333333333,\"#9c179e\"],[0.4444444444444444,\"#bd3786\"],[0.5555555555555556,\"#d8576b\"],[0.6666666666666666,\"#ed7953\"],[0.7777777777777778,\"#fb9f3a\"],[0.8888888888888888,\"#fdca26\"],[1.0,\"#f0f921\"]]}],\"contourcarpet\":[{\"type\":\"contourcarpet\",\"colorbar\":{\"outlinewidth\":0,\"ticks\":\"\"}}],\"contour\":[{\"type\":\"contour\",\"colorbar\":{\"outlinewidth\":0,\"ticks\":\"\"},\"colorscale\":[[0.0,\"#0d0887\"],[0.1111111111111111,\"#46039f\"],[0.2222222222222222,\"#7201a8\"],[0.3333333333333333,\"#9c179e\"],[0.4444444444444444,\"#bd3786\"],[0.5555555555555556,\"#d8576b\"],[0.6666666666666666,\"#ed7953\"],[0.7777777777777778,\"#fb9f3a\"],[0.8888888888888888,\"#fdca26\"],[1.0,\"#f0f921\"]]}],\"surface\":[{\"type\":\"surface\",\"colorbar\":{\"outlinewidth\":0,\"ticks\":\"\"},\"colorscale\":[[0.0,\"#0d0887\"],[0.1111111111111111,\"#46039f\"],[0.2222222222222222,\"#7201a8\"],[0.3333333333333333,\"#9c179e\"],[0.4444444444444444,\"#bd3786\"],[0.5555555555555556,\"#d8576b\"],[0.6666666666666666,\"#ed7953\"],[0.7777777777777778,\"#fb9f3a\"],[0.8888888888888888,\"#fdca26\"],[1.0,\"#f0f921\"]]}],\"mesh3d\":[{\"type\":\"mesh3d\",\"colorbar\":{\"outlinewidth\":0,\"ticks\":\"\"}}],\"scatter\":[{\"fillpattern\":{\"fillmode\":\"overlay\",\"size\":10,\"solidity\":0.2},\"type\":\"scatter\"}],\"parcoords\":[{\"type\":\"parcoords\",\"line\":{\"colorbar\":{\"outlinewidth\":0,\"ticks\":\"\"}}}],\"scatterpolargl\":[{\"type\":\"scatterpolargl\",\"marker\":{\"colorbar\":{\"outlinewidth\":0,\"ticks\":\"\"}}}],\"bar\":[{\"error_x\":{\"color\":\"#2a3f5f\"},\"error_y\":{\"color\":\"#2a3f5f\"},\"marker\":{\"line\":{\"color\":\"#E5ECF6\",\"width\":0.5},\"pattern\":{\"fillmode\":\"overlay\",\"size\":10,\"solidity\":0.2}},\"type\":\"bar\"}],\"scattergeo\":[{\"type\":\"scattergeo\",\"marker\":{\"colorbar\":{\"outlinewidth\":0,\"ticks\":\"\"}}}],\"scatterpolar\":[{\"type\":\"scatterpolar\",\"marker\":{\"colorbar\":{\"outlinewidth\":0,\"ticks\":\"\"}}}],\"histogram\":[{\"marker\":{\"pattern\":{\"fillmode\":\"overlay\",\"size\":10,\"solidity\":0.2}},\"type\":\"histogram\"}],\"scattergl\":[{\"type\":\"scattergl\",\"marker\":{\"colorbar\":{\"outlinewidth\":0,\"ticks\":\"\"}}}],\"scatter3d\":[{\"type\":\"scatter3d\",\"line\":{\"colorbar\":{\"outlinewidth\":0,\"ticks\":\"\"}},\"marker\":{\"colorbar\":{\"outlinewidth\":0,\"ticks\":\"\"}}}],\"scattermapbox\":[{\"type\":\"scattermapbox\",\"marker\":{\"colorbar\":{\"outlinewidth\":0,\"ticks\":\"\"}}}],\"scatterternary\":[{\"type\":\"scatterternary\",\"marker\":{\"colorbar\":{\"outlinewidth\":0,\"ticks\":\"\"}}}],\"scattercarpet\":[{\"type\":\"scattercarpet\",\"marker\":{\"colorbar\":{\"outlinewidth\":0,\"ticks\":\"\"}}}],\"carpet\":[{\"aaxis\":{\"endlinecolor\":\"#2a3f5f\",\"gridcolor\":\"white\",\"linecolor\":\"white\",\"minorgridcolor\":\"white\",\"startlinecolor\":\"#2a3f5f\"},\"baxis\":{\"endlinecolor\":\"#2a3f5f\",\"gridcolor\":\"white\",\"linecolor\":\"white\",\"minorgridcolor\":\"white\",\"startlinecolor\":\"#2a3f5f\"},\"type\":\"carpet\"}],\"table\":[{\"cells\":{\"fill\":{\"color\":\"#EBF0F8\"},\"line\":{\"color\":\"white\"}},\"header\":{\"fill\":{\"color\":\"#C8D4E3\"},\"line\":{\"color\":\"white\"}},\"type\":\"table\"}],\"barpolar\":[{\"marker\":{\"line\":{\"color\":\"#E5ECF6\",\"width\":0.5},\"pattern\":{\"fillmode\":\"overlay\",\"size\":10,\"solidity\":0.2}},\"type\":\"barpolar\"}],\"pie\":[{\"automargin\":true,\"type\":\"pie\"}]},\"layout\":{\"autotypenumbers\":\"strict\",\"colorway\":[\"#636efa\",\"#EF553B\",\"#00cc96\",\"#ab63fa\",\"#FFA15A\",\"#19d3f3\",\"#FF6692\",\"#B6E880\",\"#FF97FF\",\"#FECB52\"],\"font\":{\"color\":\"#2a3f5f\"},\"hovermode\":\"closest\",\"hoverlabel\":{\"align\":\"left\"},\"paper_bgcolor\":\"white\",\"plot_bgcolor\":\"#E5ECF6\",\"polar\":{\"bgcolor\":\"#E5ECF6\",\"angularaxis\":{\"gridcolor\":\"white\",\"linecolor\":\"white\",\"ticks\":\"\"},\"radialaxis\":{\"gridcolor\":\"white\",\"linecolor\":\"white\",\"ticks\":\"\"}},\"ternary\":{\"bgcolor\":\"#E5ECF6\",\"aaxis\":{\"gridcolor\":\"white\",\"linecolor\":\"white\",\"ticks\":\"\"},\"baxis\":{\"gridcolor\":\"white\",\"linecolor\":\"white\",\"ticks\":\"\"},\"caxis\":{\"gridcolor\":\"white\",\"linecolor\":\"white\",\"ticks\":\"\"}},\"coloraxis\":{\"colorbar\":{\"outlinewidth\":0,\"ticks\":\"\"}},\"colorscale\":{\"sequential\":[[0.0,\"#0d0887\"],[0.1111111111111111,\"#46039f\"],[0.2222222222222222,\"#7201a8\"],[0.3333333333333333,\"#9c179e\"],[0.4444444444444444,\"#bd3786\"],[0.5555555555555556,\"#d8576b\"],[0.6666666666666666,\"#ed7953\"],[0.7777777777777778,\"#fb9f3a\"],[0.8888888888888888,\"#fdca26\"],[1.0,\"#f0f921\"]],\"sequentialminus\":[[0.0,\"#0d0887\"],[0.1111111111111111,\"#46039f\"],[0.2222222222222222,\"#7201a8\"],[0.3333333333333333,\"#9c179e\"],[0.4444444444444444,\"#bd3786\"],[0.5555555555555556,\"#d8576b\"],[0.6666666666666666,\"#ed7953\"],[0.7777777777777778,\"#fb9f3a\"],[0.8888888888888888,\"#fdca26\"],[1.0,\"#f0f921\"]],\"diverging\":[[0,\"#8e0152\"],[0.1,\"#c51b7d\"],[0.2,\"#de77ae\"],[0.3,\"#f1b6da\"],[0.4,\"#fde0ef\"],[0.5,\"#f7f7f7\"],[0.6,\"#e6f5d0\"],[0.7,\"#b8e186\"],[0.8,\"#7fbc41\"],[0.9,\"#4d9221\"],[1,\"#276419\"]]},\"xaxis\":{\"gridcolor\":\"white\",\"linecolor\":\"white\",\"ticks\":\"\",\"title\":{\"standoff\":15},\"zerolinecolor\":\"white\",\"automargin\":true,\"zerolinewidth\":2},\"yaxis\":{\"gridcolor\":\"white\",\"linecolor\":\"white\",\"ticks\":\"\",\"title\":{\"standoff\":15},\"zerolinecolor\":\"white\",\"automargin\":true,\"zerolinewidth\":2},\"scene\":{\"xaxis\":{\"backgroundcolor\":\"#E5ECF6\",\"gridcolor\":\"white\",\"linecolor\":\"white\",\"showbackground\":true,\"ticks\":\"\",\"zerolinecolor\":\"white\",\"gridwidth\":2},\"yaxis\":{\"backgroundcolor\":\"#E5ECF6\",\"gridcolor\":\"white\",\"linecolor\":\"white\",\"showbackground\":true,\"ticks\":\"\",\"zerolinecolor\":\"white\",\"gridwidth\":2},\"zaxis\":{\"backgroundcolor\":\"#E5ECF6\",\"gridcolor\":\"white\",\"linecolor\":\"white\",\"showbackground\":true,\"ticks\":\"\",\"zerolinecolor\":\"white\",\"gridwidth\":2}},\"shapedefaults\":{\"line\":{\"color\":\"#2a3f5f\"}},\"annotationdefaults\":{\"arrowcolor\":\"#2a3f5f\",\"arrowhead\":0,\"arrowwidth\":1},\"geo\":{\"bgcolor\":\"white\",\"landcolor\":\"#E5ECF6\",\"subunitcolor\":\"white\",\"showland\":true,\"showlakes\":true,\"lakecolor\":\"white\"},\"title\":{\"x\":0.05},\"mapbox\":{\"style\":\"light\"}}},\"font\":{\"size\":18},\"title\":{\"text\":\"Real vs. Synthetic Data for column income_group\"},\"plot_bgcolor\":\"#F5F5F8\"},                        {\"responsive\": true}                    ).then(function(){\n",
              "                            \n",
              "var gd = document.getElementById('fcc42d66-c65b-4624-b0f8-5627d5514924');\n",
              "var x = new MutationObserver(function (mutations, observer) {{\n",
              "        var display = window.getComputedStyle(gd).display;\n",
              "        if (!display || display === 'none') {{\n",
              "            console.log([gd, 'removed!']);\n",
              "            Plotly.purge(gd);\n",
              "            observer.disconnect();\n",
              "        }}\n",
              "}});\n",
              "\n",
              "// Listen for the removal of the full notebook cells\n",
              "var notebookContainer = gd.closest('#notebook-container');\n",
              "if (notebookContainer) {{\n",
              "    x.observe(notebookContainer, {childList: true});\n",
              "}}\n",
              "\n",
              "// Listen for the clearing of the current output cell\n",
              "var outputEl = gd.closest('.output');\n",
              "if (outputEl) {{\n",
              "    x.observe(outputEl, {childList: true});\n",
              "}}\n",
              "\n",
              "                        })                };                            </script>        </div>\n",
              "</body>\n",
              "</html>"
            ]
          },
          "metadata": {}
        }
      ]
    },
    {
      "cell_type": "code",
      "source": [
        "from sdv.evaluation.multi_table import get_column_pair_plot\n",
        "\n",
        "fig = get_column_pair_plot(\n",
        "    real_data=real_data,\n",
        "    synthetic_data=synthetic_data,\n",
        "    column_names=['income_group', 'age_group'],\n",
        "    table_name='child_table',\n",
        "    metadata=metadata\n",
        ")\n",
        "\n",
        "fig.show()"
      ],
      "metadata": {
        "colab": {
          "base_uri": "https://localhost:8080/",
          "height": 1000
        },
        "id": "owIPqna_DT4n",
        "outputId": "60058ba2-5a6a-418f-9b44-516324cb964c"
      },
      "execution_count": 46,
      "outputs": [
        {
          "output_type": "stream",
          "name": "stderr",
          "text": [
            "<frozen importlib._bootstrap>:914: ImportWarning:\n",
            "\n",
            "APICoreClientInfoImportHook.find_spec() not found; falling back to find_module()\n",
            "\n",
            "<frozen importlib._bootstrap>:914: ImportWarning:\n",
            "\n",
            "_PyDriveImportHook.find_spec() not found; falling back to find_module()\n",
            "\n",
            "<frozen importlib._bootstrap>:914: ImportWarning:\n",
            "\n",
            "_OpenCVImportHook.find_spec() not found; falling back to find_module()\n",
            "\n",
            "<frozen importlib._bootstrap>:914: ImportWarning:\n",
            "\n",
            "_BokehImportHook.find_spec() not found; falling back to find_module()\n",
            "\n",
            "<frozen importlib._bootstrap>:914: ImportWarning:\n",
            "\n",
            "_AltairImportHook.find_spec() not found; falling back to find_module()\n",
            "\n",
            "<frozen importlib._bootstrap>:914: ImportWarning:\n",
            "\n",
            "APICoreClientInfoImportHook.find_spec() not found; falling back to find_module()\n",
            "\n",
            "<frozen importlib._bootstrap>:914: ImportWarning:\n",
            "\n",
            "_PyDriveImportHook.find_spec() not found; falling back to find_module()\n",
            "\n",
            "<frozen importlib._bootstrap>:914: ImportWarning:\n",
            "\n",
            "_OpenCVImportHook.find_spec() not found; falling back to find_module()\n",
            "\n",
            "<frozen importlib._bootstrap>:914: ImportWarning:\n",
            "\n",
            "_BokehImportHook.find_spec() not found; falling back to find_module()\n",
            "\n",
            "<frozen importlib._bootstrap>:914: ImportWarning:\n",
            "\n",
            "_AltairImportHook.find_spec() not found; falling back to find_module()\n",
            "\n"
          ]
        },
        {
          "output_type": "display_data",
          "data": {
            "text/html": [
              "<html>\n",
              "<head><meta charset=\"utf-8\" /></head>\n",
              "<body>\n",
              "    <div>            <script src=\"https://cdnjs.cloudflare.com/ajax/libs/mathjax/2.7.5/MathJax.js?config=TeX-AMS-MML_SVG\"></script><script type=\"text/javascript\">if (window.MathJax && window.MathJax.Hub && window.MathJax.Hub.Config) {window.MathJax.Hub.Config({SVG: {font: \"STIX-Web\"}});}</script>                <script type=\"text/javascript\">window.PlotlyConfig = {MathJaxConfig: 'local'};</script>\n",
              "        <script charset=\"utf-8\" src=\"https://cdn.plot.ly/plotly-2.24.1.min.js\"></script>                <div id=\"8f2d8a4a-9441-4de3-9a66-cdd47eb45b41\" class=\"plotly-graph-div\" style=\"height:525px; width:100%;\"></div>            <script type=\"text/javascript\">                                    window.PLOTLYENV=window.PLOTLYENV || {};                                    if (document.getElementById(\"8f2d8a4a-9441-4de3-9a66-cdd47eb45b41\")) {                    Plotly.newPlot(                        \"8f2d8a4a-9441-4de3-9a66-cdd47eb45b41\",                        [{\"hovertemplate\":\"Data=Real\\u003cbr\\u003eincome_group=%{x}\\u003cbr\\u003eage_group=%{y}\\u003cextra\\u003e\\u003c\\u002fextra\\u003e\",\"legendgroup\":\"Real\",\"marker\":{\"color\":\"#000036\",\"symbol\":\"circle\"},\"mode\":\"markers\",\"name\":\"Real\",\"orientation\":\"v\",\"showlegend\":true,\"x\":[2,4,5,2,4],\"xaxis\":\"x\",\"y\":[1,3,3,1,2],\"yaxis\":\"y\",\"type\":\"scatter\"},{\"hovertemplate\":\"Data=Synthetic\\u003cbr\\u003eincome_group=%{x}\\u003cbr\\u003eage_group=%{y}\\u003cextra\\u003e\\u003c\\u002fextra\\u003e\",\"legendgroup\":\"Synthetic\",\"marker\":{\"color\":\"#01E0C9\",\"symbol\":\"diamond\"},\"mode\":\"markers\",\"name\":\"Synthetic\",\"orientation\":\"v\",\"showlegend\":true,\"x\":[5,2,2,5,2,2,3,5,5,3],\"xaxis\":\"x\",\"y\":[3,1,1,3,2,1,1,3,3,1],\"yaxis\":\"y\",\"type\":\"scatter\"}],                        {\"template\":{\"data\":{\"histogram2dcontour\":[{\"type\":\"histogram2dcontour\",\"colorbar\":{\"outlinewidth\":0,\"ticks\":\"\"},\"colorscale\":[[0.0,\"#0d0887\"],[0.1111111111111111,\"#46039f\"],[0.2222222222222222,\"#7201a8\"],[0.3333333333333333,\"#9c179e\"],[0.4444444444444444,\"#bd3786\"],[0.5555555555555556,\"#d8576b\"],[0.6666666666666666,\"#ed7953\"],[0.7777777777777778,\"#fb9f3a\"],[0.8888888888888888,\"#fdca26\"],[1.0,\"#f0f921\"]]}],\"choropleth\":[{\"type\":\"choropleth\",\"colorbar\":{\"outlinewidth\":0,\"ticks\":\"\"}}],\"histogram2d\":[{\"type\":\"histogram2d\",\"colorbar\":{\"outlinewidth\":0,\"ticks\":\"\"},\"colorscale\":[[0.0,\"#0d0887\"],[0.1111111111111111,\"#46039f\"],[0.2222222222222222,\"#7201a8\"],[0.3333333333333333,\"#9c179e\"],[0.4444444444444444,\"#bd3786\"],[0.5555555555555556,\"#d8576b\"],[0.6666666666666666,\"#ed7953\"],[0.7777777777777778,\"#fb9f3a\"],[0.8888888888888888,\"#fdca26\"],[1.0,\"#f0f921\"]]}],\"heatmap\":[{\"type\":\"heatmap\",\"colorbar\":{\"outlinewidth\":0,\"ticks\":\"\"},\"colorscale\":[[0.0,\"#0d0887\"],[0.1111111111111111,\"#46039f\"],[0.2222222222222222,\"#7201a8\"],[0.3333333333333333,\"#9c179e\"],[0.4444444444444444,\"#bd3786\"],[0.5555555555555556,\"#d8576b\"],[0.6666666666666666,\"#ed7953\"],[0.7777777777777778,\"#fb9f3a\"],[0.8888888888888888,\"#fdca26\"],[1.0,\"#f0f921\"]]}],\"heatmapgl\":[{\"type\":\"heatmapgl\",\"colorbar\":{\"outlinewidth\":0,\"ticks\":\"\"},\"colorscale\":[[0.0,\"#0d0887\"],[0.1111111111111111,\"#46039f\"],[0.2222222222222222,\"#7201a8\"],[0.3333333333333333,\"#9c179e\"],[0.4444444444444444,\"#bd3786\"],[0.5555555555555556,\"#d8576b\"],[0.6666666666666666,\"#ed7953\"],[0.7777777777777778,\"#fb9f3a\"],[0.8888888888888888,\"#fdca26\"],[1.0,\"#f0f921\"]]}],\"contourcarpet\":[{\"type\":\"contourcarpet\",\"colorbar\":{\"outlinewidth\":0,\"ticks\":\"\"}}],\"contour\":[{\"type\":\"contour\",\"colorbar\":{\"outlinewidth\":0,\"ticks\":\"\"},\"colorscale\":[[0.0,\"#0d0887\"],[0.1111111111111111,\"#46039f\"],[0.2222222222222222,\"#7201a8\"],[0.3333333333333333,\"#9c179e\"],[0.4444444444444444,\"#bd3786\"],[0.5555555555555556,\"#d8576b\"],[0.6666666666666666,\"#ed7953\"],[0.7777777777777778,\"#fb9f3a\"],[0.8888888888888888,\"#fdca26\"],[1.0,\"#f0f921\"]]}],\"surface\":[{\"type\":\"surface\",\"colorbar\":{\"outlinewidth\":0,\"ticks\":\"\"},\"colorscale\":[[0.0,\"#0d0887\"],[0.1111111111111111,\"#46039f\"],[0.2222222222222222,\"#7201a8\"],[0.3333333333333333,\"#9c179e\"],[0.4444444444444444,\"#bd3786\"],[0.5555555555555556,\"#d8576b\"],[0.6666666666666666,\"#ed7953\"],[0.7777777777777778,\"#fb9f3a\"],[0.8888888888888888,\"#fdca26\"],[1.0,\"#f0f921\"]]}],\"mesh3d\":[{\"type\":\"mesh3d\",\"colorbar\":{\"outlinewidth\":0,\"ticks\":\"\"}}],\"scatter\":[{\"fillpattern\":{\"fillmode\":\"overlay\",\"size\":10,\"solidity\":0.2},\"type\":\"scatter\"}],\"parcoords\":[{\"type\":\"parcoords\",\"line\":{\"colorbar\":{\"outlinewidth\":0,\"ticks\":\"\"}}}],\"scatterpolargl\":[{\"type\":\"scatterpolargl\",\"marker\":{\"colorbar\":{\"outlinewidth\":0,\"ticks\":\"\"}}}],\"bar\":[{\"error_x\":{\"color\":\"#2a3f5f\"},\"error_y\":{\"color\":\"#2a3f5f\"},\"marker\":{\"line\":{\"color\":\"#E5ECF6\",\"width\":0.5},\"pattern\":{\"fillmode\":\"overlay\",\"size\":10,\"solidity\":0.2}},\"type\":\"bar\"}],\"scattergeo\":[{\"type\":\"scattergeo\",\"marker\":{\"colorbar\":{\"outlinewidth\":0,\"ticks\":\"\"}}}],\"scatterpolar\":[{\"type\":\"scatterpolar\",\"marker\":{\"colorbar\":{\"outlinewidth\":0,\"ticks\":\"\"}}}],\"histogram\":[{\"marker\":{\"pattern\":{\"fillmode\":\"overlay\",\"size\":10,\"solidity\":0.2}},\"type\":\"histogram\"}],\"scattergl\":[{\"type\":\"scattergl\",\"marker\":{\"colorbar\":{\"outlinewidth\":0,\"ticks\":\"\"}}}],\"scatter3d\":[{\"type\":\"scatter3d\",\"line\":{\"colorbar\":{\"outlinewidth\":0,\"ticks\":\"\"}},\"marker\":{\"colorbar\":{\"outlinewidth\":0,\"ticks\":\"\"}}}],\"scattermapbox\":[{\"type\":\"scattermapbox\",\"marker\":{\"colorbar\":{\"outlinewidth\":0,\"ticks\":\"\"}}}],\"scatterternary\":[{\"type\":\"scatterternary\",\"marker\":{\"colorbar\":{\"outlinewidth\":0,\"ticks\":\"\"}}}],\"scattercarpet\":[{\"type\":\"scattercarpet\",\"marker\":{\"colorbar\":{\"outlinewidth\":0,\"ticks\":\"\"}}}],\"carpet\":[{\"aaxis\":{\"endlinecolor\":\"#2a3f5f\",\"gridcolor\":\"white\",\"linecolor\":\"white\",\"minorgridcolor\":\"white\",\"startlinecolor\":\"#2a3f5f\"},\"baxis\":{\"endlinecolor\":\"#2a3f5f\",\"gridcolor\":\"white\",\"linecolor\":\"white\",\"minorgridcolor\":\"white\",\"startlinecolor\":\"#2a3f5f\"},\"type\":\"carpet\"}],\"table\":[{\"cells\":{\"fill\":{\"color\":\"#EBF0F8\"},\"line\":{\"color\":\"white\"}},\"header\":{\"fill\":{\"color\":\"#C8D4E3\"},\"line\":{\"color\":\"white\"}},\"type\":\"table\"}],\"barpolar\":[{\"marker\":{\"line\":{\"color\":\"#E5ECF6\",\"width\":0.5},\"pattern\":{\"fillmode\":\"overlay\",\"size\":10,\"solidity\":0.2}},\"type\":\"barpolar\"}],\"pie\":[{\"automargin\":true,\"type\":\"pie\"}]},\"layout\":{\"autotypenumbers\":\"strict\",\"colorway\":[\"#636efa\",\"#EF553B\",\"#00cc96\",\"#ab63fa\",\"#FFA15A\",\"#19d3f3\",\"#FF6692\",\"#B6E880\",\"#FF97FF\",\"#FECB52\"],\"font\":{\"color\":\"#2a3f5f\"},\"hovermode\":\"closest\",\"hoverlabel\":{\"align\":\"left\"},\"paper_bgcolor\":\"white\",\"plot_bgcolor\":\"#E5ECF6\",\"polar\":{\"bgcolor\":\"#E5ECF6\",\"angularaxis\":{\"gridcolor\":\"white\",\"linecolor\":\"white\",\"ticks\":\"\"},\"radialaxis\":{\"gridcolor\":\"white\",\"linecolor\":\"white\",\"ticks\":\"\"}},\"ternary\":{\"bgcolor\":\"#E5ECF6\",\"aaxis\":{\"gridcolor\":\"white\",\"linecolor\":\"white\",\"ticks\":\"\"},\"baxis\":{\"gridcolor\":\"white\",\"linecolor\":\"white\",\"ticks\":\"\"},\"caxis\":{\"gridcolor\":\"white\",\"linecolor\":\"white\",\"ticks\":\"\"}},\"coloraxis\":{\"colorbar\":{\"outlinewidth\":0,\"ticks\":\"\"}},\"colorscale\":{\"sequential\":[[0.0,\"#0d0887\"],[0.1111111111111111,\"#46039f\"],[0.2222222222222222,\"#7201a8\"],[0.3333333333333333,\"#9c179e\"],[0.4444444444444444,\"#bd3786\"],[0.5555555555555556,\"#d8576b\"],[0.6666666666666666,\"#ed7953\"],[0.7777777777777778,\"#fb9f3a\"],[0.8888888888888888,\"#fdca26\"],[1.0,\"#f0f921\"]],\"sequentialminus\":[[0.0,\"#0d0887\"],[0.1111111111111111,\"#46039f\"],[0.2222222222222222,\"#7201a8\"],[0.3333333333333333,\"#9c179e\"],[0.4444444444444444,\"#bd3786\"],[0.5555555555555556,\"#d8576b\"],[0.6666666666666666,\"#ed7953\"],[0.7777777777777778,\"#fb9f3a\"],[0.8888888888888888,\"#fdca26\"],[1.0,\"#f0f921\"]],\"diverging\":[[0,\"#8e0152\"],[0.1,\"#c51b7d\"],[0.2,\"#de77ae\"],[0.3,\"#f1b6da\"],[0.4,\"#fde0ef\"],[0.5,\"#f7f7f7\"],[0.6,\"#e6f5d0\"],[0.7,\"#b8e186\"],[0.8,\"#7fbc41\"],[0.9,\"#4d9221\"],[1,\"#276419\"]]},\"xaxis\":{\"gridcolor\":\"white\",\"linecolor\":\"white\",\"ticks\":\"\",\"title\":{\"standoff\":15},\"zerolinecolor\":\"white\",\"automargin\":true,\"zerolinewidth\":2},\"yaxis\":{\"gridcolor\":\"white\",\"linecolor\":\"white\",\"ticks\":\"\",\"title\":{\"standoff\":15},\"zerolinecolor\":\"white\",\"automargin\":true,\"zerolinewidth\":2},\"scene\":{\"xaxis\":{\"backgroundcolor\":\"#E5ECF6\",\"gridcolor\":\"white\",\"linecolor\":\"white\",\"showbackground\":true,\"ticks\":\"\",\"zerolinecolor\":\"white\",\"gridwidth\":2},\"yaxis\":{\"backgroundcolor\":\"#E5ECF6\",\"gridcolor\":\"white\",\"linecolor\":\"white\",\"showbackground\":true,\"ticks\":\"\",\"zerolinecolor\":\"white\",\"gridwidth\":2},\"zaxis\":{\"backgroundcolor\":\"#E5ECF6\",\"gridcolor\":\"white\",\"linecolor\":\"white\",\"showbackground\":true,\"ticks\":\"\",\"zerolinecolor\":\"white\",\"gridwidth\":2}},\"shapedefaults\":{\"line\":{\"color\":\"#2a3f5f\"}},\"annotationdefaults\":{\"arrowcolor\":\"#2a3f5f\",\"arrowhead\":0,\"arrowwidth\":1},\"geo\":{\"bgcolor\":\"white\",\"landcolor\":\"#E5ECF6\",\"subunitcolor\":\"white\",\"showland\":true,\"showlakes\":true,\"lakecolor\":\"white\"},\"title\":{\"x\":0.05},\"mapbox\":{\"style\":\"light\"}}},\"xaxis\":{\"anchor\":\"y\",\"domain\":[0.0,1.0],\"title\":{\"text\":\"income_group\"}},\"yaxis\":{\"anchor\":\"x\",\"domain\":[0.0,1.0],\"title\":{\"text\":\"age_group\"}},\"legend\":{\"title\":{\"text\":\"Data\"},\"tracegroupgap\":0},\"margin\":{\"t\":60},\"font\":{\"size\":18},\"title\":{\"text\":\"Real vs. Synthetic Data for columns 'income_group' and 'age_group'\"},\"plot_bgcolor\":\"#F5F5F8\"},                        {\"responsive\": true}                    ).then(function(){\n",
              "                            \n",
              "var gd = document.getElementById('8f2d8a4a-9441-4de3-9a66-cdd47eb45b41');\n",
              "var x = new MutationObserver(function (mutations, observer) {{\n",
              "        var display = window.getComputedStyle(gd).display;\n",
              "        if (!display || display === 'none') {{\n",
              "            console.log([gd, 'removed!']);\n",
              "            Plotly.purge(gd);\n",
              "            observer.disconnect();\n",
              "        }}\n",
              "}});\n",
              "\n",
              "// Listen for the removal of the full notebook cells\n",
              "var notebookContainer = gd.closest('#notebook-container');\n",
              "if (notebookContainer) {{\n",
              "    x.observe(notebookContainer, {childList: true});\n",
              "}}\n",
              "\n",
              "// Listen for the clearing of the current output cell\n",
              "var outputEl = gd.closest('.output');\n",
              "if (outputEl) {{\n",
              "    x.observe(outputEl, {childList: true});\n",
              "}}\n",
              "\n",
              "                        })                };                            </script>        </div>\n",
              "</body>\n",
              "</html>"
            ]
          },
          "metadata": {}
        }
      ]
    },
    {
      "cell_type": "code",
      "source": [],
      "metadata": {
        "id": "MIKPSw5YDeDr"
      },
      "execution_count": null,
      "outputs": []
    }
  ]
}